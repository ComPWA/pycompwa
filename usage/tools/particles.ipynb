{
 "cells": [
  {
   "cell_type": "raw",
   "metadata": {
    "raw_mimetype": "text/restructuredtext"
   },
   "source": [
    "Download this notebook :download:`here <particles.ipynb>`."
   ]
  },
  {
   "cell_type": "markdown",
   "metadata": {},
   "source": [
    "# Particle database"
   ]
  },
  {
   "cell_type": "markdown",
   "metadata": {},
   "source": [
    "This notebook explains the difference between the particle list in `pycompwa`\n",
    "and the list used in the ComPWA C++ back-end. The two are only related the\n",
    "way they import and export XML files."
   ]
  },
  {
   "cell_type": "markdown",
   "metadata": {},
   "source": [
    "## pycompwa particle list"
   ]
  },
  {
   "cell_type": "raw",
   "metadata": {
    "raw_mimetype": "text/restructuredtext"
   },
   "source": [
    "The :mod:`.particle` module is required for the expert system (see\n",
    ":doc:`../workflow/1_create_model`): when you create an instance of the\n",
    ":class:`.StateTransitionManager`, it loads the `default list of particles\n",
    "that is shipped with ComPWA\n",
    "<https://github.com/ComPWA/ComPWA/blob/master/Physics/particle_list.xml>`_.\n",
    "This default list is loaded into a :class:`dict` called ``particle_list``\n",
    "and is **used internally by the expert system**."
   ]
  },
  {
   "cell_type": "code",
   "execution_count": 1,
   "metadata": {
    "execution": {
     "iopub.execute_input": "2021-10-23T15:19:21.549754Z",
     "iopub.status.busy": "2021-10-23T15:19:21.549050Z",
     "iopub.status.idle": "2021-10-23T15:19:22.235358Z",
     "shell.execute_reply": "2021-10-23T15:19:22.234626Z"
    }
   },
   "outputs": [
    {
     "name": "stdout",
     "output_type": "stream",
     "text": [
      "2021-10-23 15:19:21,857 INFO [default] Logging to file disabled!\n",
      "2021-10-23 15:19:21,857 [INFO] Log level: INFO\n",
      "2021-10-23 15:19:21,857 [INFO] Current date and time: Sat Oct 23 15:19:21 2021\n",
      "\n"
     ]
    },
    {
     "name": "stdout",
     "output_type": "stream",
     "text": [
      "loaded 70 particles\n"
     ]
    },
    {
     "name": "stderr",
     "output_type": "stream",
     "text": [
      "/opt/hostedtoolcache/Python/3.7.12/x64/lib/python3.7/site-packages/traitlets/traitlets.py:3050: FutureWarning: --rc={'figure.dpi': 96} for dict-traits is deprecated in traitlets 5.0. You can pass --rc <key=value> ... multiple times to add items to a dict.\n",
      "  FutureWarning,\n"
     ]
    }
   ],
   "source": [
    "from pycompwa.expertsystem.state.particle import particle_list\n",
    "from pycompwa.expertsystem.ui.system_control import StateTransitionManager\n",
    "\n",
    "initial_state = [(\"J/psi\", [-1, 1])]\n",
    "final_state = [(\"gamma\"), (\"pi0\"), (\"pi0\")]\n",
    "tbd_manager = StateTransitionManager(\n",
    "    initial_state,\n",
    "    final_state,\n",
    "    formalism_type=\"helicity\",\n",
    "    topology_building=\"isobar\",\n",
    ")\n",
    "original_number_of_entries = len(particle_list)\n",
    "print(\"loaded\", original_number_of_entries, \"particles\")"
   ]
  },
  {
   "cell_type": "raw",
   "metadata": {
    "raw_mimetype": "text/restructuredtext"
   },
   "source": [
    "In PWA research, it is quite likely that this particle list is incomplete,\n",
    "particularly if you search for rare resonances or if you analyze a\n",
    ":math:`e^+e^-` collision of a particular energy as the initial state. You may\n",
    "therefore want to manipulate this particle list before you do call\n",
    ":meth:`.StateTransitionManager.find_solutions`. There are two ways to do\n",
    "this: (1) through Python or (2) by modifying a copy of the default XML file."
   ]
  },
  {
   "cell_type": "markdown",
   "metadata": {},
   "source": [
    "### (1) through Python"
   ]
  },
  {
   "cell_type": "raw",
   "metadata": {
    "raw_mimetype": "text/restructuredtext"
   },
   "source": [
    "The particle list instance is a tree of `~collections.OrderedDict` and\n",
    ":class:`dict` instances that represent the structure of the XML file."
   ]
  },
  {
   "cell_type": "code",
   "execution_count": 2,
   "metadata": {
    "execution": {
     "iopub.execute_input": "2021-10-23T15:19:22.248519Z",
     "iopub.status.busy": "2021-10-23T15:19:22.247396Z",
     "iopub.status.idle": "2021-10-23T15:19:22.251689Z",
     "shell.execute_reply": "2021-10-23T15:19:22.251109Z"
    }
   },
   "outputs": [
    {
     "data": {
      "text/plain": [
       "{'@Name': 'D*(2010)+',\n",
       " 'Pid': '413',\n",
       " 'Parameter': OrderedDict([('@Type', 'Mass'),\n",
       "              ('@Name', 'Mass_D*(2010)+'),\n",
       "              ('Value', '2.01'),\n",
       "              ('Fix', 'true')]),\n",
       " 'QuantumNumber': [OrderedDict([('@Class', 'Spin'),\n",
       "               ('@Type', 'Spin'),\n",
       "               ('@Value', '1')]),\n",
       "  OrderedDict([('@Class', 'Int'), ('@Type', 'Charge'), ('@Value', '1')]),\n",
       "  OrderedDict([('@Class', 'Int'), ('@Type', 'Parity'), ('@Value', '-1')]),\n",
       "  OrderedDict([('@Class', 'Spin'),\n",
       "               ('@Type', 'IsoSpin'),\n",
       "               ('@Value', '0.5'),\n",
       "               ('@Projection', '0.5')]),\n",
       "  OrderedDict([('@Class', 'Int'), ('@Type', 'Charm'), ('@Value', '1')]),\n",
       "  OrderedDict([('@Class', 'Int'),\n",
       "               ('@Type', 'BaryonNumber'),\n",
       "               ('@Value', '0')])],\n",
       " 'DecayInfo': OrderedDict([('@Type', 'relativisticBreitWigner'),\n",
       "              ('FormFactor', OrderedDict([('@Type', 'BlattWeisskopf')])),\n",
       "              ('Parameter',\n",
       "               [OrderedDict([('@Type', 'Width'),\n",
       "                             ('@Name', 'Width_D*(2010)+'),\n",
       "                             ('Value', '83.4E-6'),\n",
       "                             ('Fix', 'true')]),\n",
       "                OrderedDict([('@Type', 'MesonRadius'),\n",
       "                             ('@Name', 'Radius_D*(2010)+'),\n",
       "                             ('Value', '2.5'),\n",
       "                             ('Fix', 'true'),\n",
       "                             ('Min', '2.0'),\n",
       "                             ('Max', '3.0')])])])}"
      ]
     },
     "execution_count": 2,
     "metadata": {},
     "output_type": "execute_result"
    }
   ],
   "source": [
    "particle_list[\"D*(2010)+\"]"
   ]
  },
  {
   "cell_type": "markdown",
   "metadata": {},
   "source": [
    "Although this is a bit arduous to work with, it is possible to directly\n",
    "manipulate the entries in there through Python. Whatever modifications to\n",
    "the ``particle_list`` instance are later on also used in the expert system.\n",
    "In this case, for instance, we can set a wider width for the $D^*$:"
   ]
  },
  {
   "cell_type": "code",
   "execution_count": 3,
   "metadata": {
    "execution": {
     "iopub.execute_input": "2021-10-23T15:19:22.256958Z",
     "iopub.status.busy": "2021-10-23T15:19:22.256273Z",
     "iopub.status.idle": "2021-10-23T15:19:22.258690Z",
     "shell.execute_reply": "2021-10-23T15:19:22.258211Z"
    }
   },
   "outputs": [],
   "source": [
    "particle_list[\"D*(2010)+\"][\"DecayInfo\"][\"Parameter\"][0][\"Value\"] = 0.01"
   ]
  },
  {
   "cell_type": "raw",
   "metadata": {
    "raw_mimetype": "text/restructuredtext"
   },
   "source": [
    "It can also happen that you want to add new particles. Because of the\n",
    "hierarchical structure of entries in the ``particle_lsit``, it is best to\n",
    "work with a `~copy.deepcopy` of a similar particle that is already in that\n",
    "list. You can get such a copy with :func:`.get_particle_copy_by_name` and add\n",
    "it back with :func:`.add_to_particle_list`. This can for instance come in\n",
    "handy if you want to work with several :math:`e^+e^-` collision energies:"
   ]
  },
  {
   "cell_type": "code",
   "execution_count": 4,
   "metadata": {
    "execution": {
     "iopub.execute_input": "2021-10-23T15:19:22.264159Z",
     "iopub.status.busy": "2021-10-23T15:19:22.262328Z",
     "iopub.status.idle": "2021-10-23T15:19:22.265180Z",
     "shell.execute_reply": "2021-10-23T15:19:22.265778Z"
    }
   },
   "outputs": [],
   "source": [
    "from pycompwa.expertsystem.state import particle"
   ]
  },
  {
   "cell_type": "code",
   "execution_count": 5,
   "metadata": {
    "execution": {
     "iopub.execute_input": "2021-10-23T15:19:22.273496Z",
     "iopub.status.busy": "2021-10-23T15:19:22.272034Z",
     "iopub.status.idle": "2021-10-23T15:19:22.274159Z",
     "shell.execute_reply": "2021-10-23T15:19:22.274631Z"
    }
   },
   "outputs": [],
   "source": [
    "energies = [4180, 4220, 4420, 4600]  # MeV\n",
    "\n",
    "for counter, energy in enumerate(energies, 1):\n",
    "    new_particle = particle.get_particle_copy_by_name(\"EpEm\")\n",
    "    new_particle[\"Parameter\"][\"Value\"] = energy / 1e3  # GeV\n",
    "    pid = int(new_particle[\"Pid\"]) + counter\n",
    "    new_particle[\"@Name\"] += str(energy)  # new name to not overwrite the old\n",
    "    new_particle[\"Pid\"] = str(pid)  # set unique PID\n",
    "    particle.add_to_particle_list(new_particle)\n",
    "\n",
    "assert original_number_of_entries + len(energies) == len(particle_list)"
   ]
  },
  {
   "cell_type": "code",
   "execution_count": 6,
   "metadata": {
    "execution": {
     "iopub.execute_input": "2021-10-23T15:19:22.284689Z",
     "iopub.status.busy": "2021-10-23T15:19:22.279656Z",
     "iopub.status.idle": "2021-10-23T15:19:22.289045Z",
     "shell.execute_reply": "2021-10-23T15:19:22.285582Z"
    }
   },
   "outputs": [
    {
     "data": {
      "text/plain": [
       "OrderedDict([('@Type', 'Mass'),\n",
       "             ('@Name', 'Mass_epem'),\n",
       "             ('Value', '4.300'),\n",
       "             ('Fix', 'true')])"
      ]
     },
     "metadata": {},
     "output_type": "display_data"
    },
    {
     "data": {
      "text/plain": [
       "OrderedDict([('@Type', 'Mass'),\n",
       "             ('@Name', 'Mass_epem'),\n",
       "             ('Value', 4.18),\n",
       "             ('Fix', 'true')])"
      ]
     },
     "metadata": {},
     "output_type": "display_data"
    }
   ],
   "source": [
    "from IPython.display import display\n",
    "\n",
    "display(particle.particle_list[\"EpEm\"][\"Parameter\"])\n",
    "display(particle.particle_list[\"EpEm4180\"][\"Parameter\"])"
   ]
  },
  {
   "cell_type": "code",
   "execution_count": 7,
   "metadata": {
    "execution": {
     "iopub.execute_input": "2021-10-23T15:19:22.293001Z",
     "iopub.status.busy": "2021-10-23T15:19:22.291377Z",
     "iopub.status.idle": "2021-10-23T15:19:22.295486Z",
     "shell.execute_reply": "2021-10-23T15:19:22.294846Z"
    }
   },
   "outputs": [],
   "source": [
    "particle.particle_list[\"D*(2010)+\"][\"DecayInfo\"][\"Parameter\"][0][\n",
    "    \"Value\"\n",
    "] = 0.01"
   ]
  },
  {
   "cell_type": "markdown",
   "metadata": {},
   "source": [
    "Finally, you can write particle to another XML file, so that you can have\n",
    "this particle list manipulation in a separate Python script:"
   ]
  },
  {
   "cell_type": "code",
   "execution_count": 8,
   "metadata": {
    "execution": {
     "iopub.execute_input": "2021-10-23T15:19:22.299401Z",
     "iopub.status.busy": "2021-10-23T15:19:22.298839Z",
     "iopub.status.idle": "2021-10-23T15:19:22.315885Z",
     "shell.execute_reply": "2021-10-23T15:19:22.316437Z"
    }
   },
   "outputs": [],
   "source": [
    "particle.write_particle_list_to_xml(\"new_particle_list.xml\")"
   ]
  },
  {
   "cell_type": "markdown",
   "metadata": {},
   "source": [
    "### (2) through XML"
   ]
  },
  {
   "cell_type": "markdown",
   "metadata": {},
   "source": [
    "Alternatively, you can copy the default XML file and manipulate it by hand\n",
    "(copy a section, tweak some names, change some parameters) and load it as\n",
    "follows:"
   ]
  },
  {
   "cell_type": "code",
   "execution_count": 9,
   "metadata": {
    "execution": {
     "iopub.execute_input": "2021-10-23T15:19:22.320441Z",
     "iopub.status.busy": "2021-10-23T15:19:22.319832Z",
     "iopub.status.idle": "2021-10-23T15:19:22.333713Z",
     "shell.execute_reply": "2021-10-23T15:19:22.333199Z"
    }
   },
   "outputs": [],
   "source": [
    "particle.load_particle_list_from_xml(\"../particle_list.xml\")"
   ]
  },
  {
   "cell_type": "markdown",
   "metadata": {},
   "source": [
    "Note that duplicate values in the particle list are overwritten, but that old\n",
    "values are kept:"
   ]
  },
  {
   "cell_type": "code",
   "execution_count": 10,
   "metadata": {
    "execution": {
     "iopub.execute_input": "2021-10-23T15:19:22.338973Z",
     "iopub.status.busy": "2021-10-23T15:19:22.338101Z",
     "iopub.status.idle": "2021-10-23T15:19:22.340770Z",
     "shell.execute_reply": "2021-10-23T15:19:22.341233Z"
    }
   },
   "outputs": [
    {
     "name": "stdout",
     "output_type": "stream",
     "text": [
      "Number of entries in particle_list\n",
      "  old: 70\n",
      "  new: 74\n"
     ]
    }
   ],
   "source": [
    "print(\"Number of entries in particle_list\")\n",
    "print(\"  old:\", original_number_of_entries)\n",
    "print(\"  new:\", len(particle.particle_list))"
   ]
  },
  {
   "cell_type": "code",
   "execution_count": 11,
   "metadata": {
    "execution": {
     "iopub.execute_input": "2021-10-23T15:19:22.347263Z",
     "iopub.status.busy": "2021-10-23T15:19:22.343356Z",
     "iopub.status.idle": "2021-10-23T15:19:22.352660Z",
     "shell.execute_reply": "2021-10-23T15:19:22.353447Z"
    }
   },
   "outputs": [
    {
     "data": {
      "text/plain": [
       "'83.4E-6'"
      ]
     },
     "execution_count": 11,
     "metadata": {},
     "output_type": "execute_result"
    }
   ],
   "source": [
    "particle_list[\"D*(2010)+\"][\"DecayInfo\"][\"Parameter\"][0][\"Value\"]"
   ]
  },
  {
   "cell_type": "code",
   "execution_count": 12,
   "metadata": {
    "execution": {
     "iopub.execute_input": "2021-10-23T15:19:22.360236Z",
     "iopub.status.busy": "2021-10-23T15:19:22.358623Z",
     "iopub.status.idle": "2021-10-23T15:19:22.363318Z",
     "shell.execute_reply": "2021-10-23T15:19:22.363805Z"
    }
   },
   "outputs": [
    {
     "data": {
      "text/plain": [
       "OrderedDict([('@Type', 'Mass'),\n",
       "             ('@Name', 'Mass_epem'),\n",
       "             ('Value', 4.42),\n",
       "             ('Fix', 'true')])"
      ]
     },
     "execution_count": 12,
     "metadata": {},
     "output_type": "execute_result"
    }
   ],
   "source": [
    "particle_list[\"EpEm4420\"][\"Parameter\"]"
   ]
  },
  {
   "cell_type": "markdown",
   "metadata": {},
   "source": [
    "## ComPWA particle list"
   ]
  },
  {
   "cell_type": "raw",
   "metadata": {
    "raw_mimetype": "text/restructuredtext"
   },
   "source": [
    "ComPWA, which we manage through the :mod:`pycompwa.ui` module, works with a\n",
    "different particle list than the one discussed in the\n",
    ":ref:`previous section <usage/tools/particles:pycompwa particle list>`,\n",
    "because ComPWA's objects 'live' in the C++ backend. We saw this\n",
    ":class:`.ParticleList` class before, for instance when,\n",
    ":doc:`generating data <../workflow/2_generate_data>`. A\n",
    ":class:`pycompwa.ui.ParticleList` can be created from an XML file as follows:"
   ]
  },
  {
   "cell_type": "code",
   "execution_count": 13,
   "metadata": {
    "execution": {
     "iopub.execute_input": "2021-10-23T15:19:22.373753Z",
     "iopub.status.busy": "2021-10-23T15:19:22.373149Z",
     "iopub.status.idle": "2021-10-23T15:19:22.380480Z",
     "shell.execute_reply": "2021-10-23T15:19:22.380907Z"
    }
   },
   "outputs": [
    {
     "name": "stdout",
     "output_type": "stream",
     "text": [
      "2021-10-23 15:19:22,370 [INFO]  Particle a0(980)- with identical ID 9000211 already exists in list with the name a0(980)+ and ID 9000211. Particle properties will be overwritten!\n"
     ]
    },
    {
     "name": "stdout",
     "output_type": "stream",
     "text": [
      "2021-10-23 15:19:22,372 [INFO]  Particle PatricParticle with identical ID 1234 already exists in list with the name Chic1 and ID 1234. Particle properties will be overwritten!\n"
     ]
    },
    {
     "name": "stdout",
     "output_type": "stream",
     "text": [
      "2021-10-23 15:19:22,374 [INFO]  Particle nbar with identical ID 2112 already exists in list with the name n and ID 2112. Particle properties will be overwritten!\n"
     ]
    }
   ],
   "source": [
    "import pycompwa.ui\n",
    "\n",
    "particles = pycompwa.ui.read_particles(\"../particle_list.xml\")"
   ]
  },
  {
   "cell_type": "markdown",
   "metadata": {},
   "source": [
    "You can append particles to this instance from another list with"
   ]
  },
  {
   "cell_type": "code",
   "execution_count": 14,
   "metadata": {
    "execution": {
     "iopub.execute_input": "2021-10-23T15:19:22.385552Z",
     "iopub.status.busy": "2021-10-23T15:19:22.385010Z",
     "iopub.status.idle": "2021-10-23T15:19:22.395677Z",
     "shell.execute_reply": "2021-10-23T15:19:22.395049Z"
    }
   },
   "outputs": [
    {
     "name": "stdout",
     "output_type": "stream",
     "text": [
      "2021-10-23 15:19:22,383 [INFO] Logging to file disabled!\n"
     ]
    }
   ],
   "source": [
    "pycompwa.ui.Logging(\"error\")  # switch off overwrite warnings\n",
    "pycompwa.ui.insert_particles(particles, \"../particle_list.xml\")"
   ]
  }
 ],
 "metadata": {
  "celltoolbar": "Raw Cell Format",
  "kernelspec": {
   "display_name": "Python 3",
   "language": "python",
   "name": "python3"
  },
  "language_info": {
   "codemirror_mode": {
    "name": "ipython",
    "version": 3
   },
   "file_extension": ".py",
   "mimetype": "text/x-python",
   "name": "python",
   "nbconvert_exporter": "python",
   "pygments_lexer": "ipython3",
   "version": "3.7.12"
  }
 },
 "nbformat": 4,
 "nbformat_minor": 4
}
