{
 "cells": [
  {
   "cell_type": "raw",
   "metadata": {
    "raw_mimetype": "text/restructuredtext"
   },
   "source": [
    "Download this notebook :download:`here <2_generate_data.ipynb>`."
   ]
  },
  {
   "cell_type": "markdown",
   "metadata": {},
   "source": [
    "# Step 2: Generate data samples"
   ]
  },
  {
   "cell_type": "markdown",
   "metadata": {},
   "source": [
    "In this section, we will use the amplitude model that we created with the\n",
    "expert system to generate a data sample via hit & miss Monte Carlo. This\n",
    "requires us to work with the User Interface to ComPWA, the C++ back-end of\n",
    "`pycompwa`."
   ]
  },
  {
   "cell_type": "markdown",
   "metadata": {},
   "source": [
    "## 2.1 Generate"
   ]
  },
  {
   "cell_type": "markdown",
   "metadata": {},
   "source": [
    "In the previous step, we created an amplitude module and exported it as an\n",
    "XML file. We now need to go through a few steps to generate a phase space\n",
    "sample and a data sample for the decay $J/\\psi \\rightarrow \\gamma\\pi^0\\pi^0$:"
   ]
  },
  {
   "cell_type": "raw",
   "metadata": {
    "raw_mimetype": "text/restructuredtext"
   },
   "source": [
    "1. Import the section of particle definitions that is embedded in the XML file.\n",
    "\n",
    "2. Build a :class:`.Kinematics` object following the specifications of the\n",
    "   dynamics in the XML model file (in this case, the helicity formalism).\n",
    "   The second argument of this function is a particle list.\n",
    "\n",
    "3. The information in the :class:`.Kinematics` instance is sufficient for\n",
    "   generating a phase space sample. This sample defines the space on which to\n",
    "   evaluate the intensities of the amplitude model.\n",
    "\n",
    "4. For generating a data sample, you require an :class:`.Intensity` profile\n",
    "   for this specific decay. You can construct such an object from the model\n",
    "   XML file using the :class:`.IntensityBuilderXML`. Because we want the\n",
    "   intensities to be normalized, you have to pass the generated phase space\n",
    "   sample as an argument to the intensity builder. Note that during the\n",
    "   creation of the :class:`.Intensity` object, the :class:`.Kinematics`\n",
    "   instance is updated with the subsystems required for the decay topology."
   ]
  },
  {
   "cell_type": "markdown",
   "metadata": {},
   "source": [
    "Now all building blocks for generating our data sample are at hand and you\n",
    "can define a data sample of arbitrary size!"
   ]
  },
  {
   "cell_type": "code",
   "execution_count": 1,
   "metadata": {
    "execution": {
     "iopub.execute_input": "2021-10-22T22:33:19.956118Z",
     "iopub.status.busy": "2021-10-22T22:33:19.955616Z",
     "iopub.status.idle": "2021-10-22T22:33:20.607282Z",
     "shell.execute_reply": "2021-10-22T22:33:20.607768Z"
    }
   },
   "outputs": [
    {
     "name": "stdout",
     "output_type": "stream",
     "text": [
      "2021-10-22 22:33:20,258 INFO [default] Logging to file disabled!\n",
      "2021-10-22 22:33:20,259 [INFO] Log level: INFO\n",
      "2021-10-22 22:33:20,259 [INFO] Current date and time: Fri Oct 22 22:33:20 2021\n",
      "\n"
     ]
    },
    {
     "name": "stderr",
     "output_type": "stream",
     "text": [
      "/opt/hostedtoolcache/Python/3.7.12/x64/lib/python3.7/site-packages/traitlets/traitlets.py:3050: FutureWarning: --rc={'figure.dpi': 96} for dict-traits is deprecated in traitlets 5.0. You can pass --rc <key=value> ... multiple times to add items to a dict.\n",
      "  FutureWarning,\n"
     ]
    }
   ],
   "source": [
    "import pycompwa.ui as pwa  # interface to ComPWA"
   ]
  },
  {
   "cell_type": "code",
   "execution_count": 2,
   "metadata": {
    "execution": {
     "iopub.execute_input": "2021-10-22T22:33:20.618199Z",
     "iopub.status.busy": "2021-10-22T22:33:20.610777Z",
     "iopub.status.idle": "2021-10-22T22:33:25.411266Z",
     "shell.execute_reply": "2021-10-22T22:33:25.410791Z"
    }
   },
   "outputs": [
    {
     "name": "stdout",
     "output_type": "stream",
     "text": [
      "2021-10-22 22:33:20,616 [INFO] HelicityKinematics::HelicityKinematics() | Initialized kinematics for reaction ( J/psi )->( gamma[ID=2] pi0[ID=3] pi0[ID=4] )\n",
      "Event position to final state ID mapping:\n",
      "0: 2\n",
      "1: 3\n",
      "2: 4\n",
      "\n"
     ]
    },
    {
     "name": "stdout",
     "output_type": "stream",
     "text": [
      "2021-10-22 22:33:20,618 [INFO] Generating phase-space MC: [100000 events] \n"
     ]
    },
    {
     "name": "stdout",
     "output_type": "stream",
     "text": [
      "\u001b[?25l \r",
      " 0.00min [ ---------- 0.00% ] 0.00min , end time: 10:33PM               \u001b[?25h\n",
      "\u001b[?25l \r",
      " 0.00min [ ********** 100.00% ] 0.00min , end time: 10:33PM               \u001b[?25h"
     ]
    },
    {
     "name": "stdout",
     "output_type": "stream",
     "text": [
      "\n"
     ]
    },
    {
     "name": "stdout",
     "output_type": "stream",
     "text": [
      "2021-10-22 22:33:20,714 [INFO] Setting phase space sample weights...\n"
     ]
    },
    {
     "name": "stdout",
     "output_type": "stream",
     "text": [
      "2021-10-22 22:33:20,722 [INFO] Updating data container content...\n"
     ]
    },
    {
     "name": "stdout",
     "output_type": "stream",
     "text": [
      "2021-10-22 22:33:22,624 [INFO] Generating hit-and-miss sample: [10000 events] \n"
     ]
    },
    {
     "name": "stdout",
     "output_type": "stream",
     "text": [
      "\u001b[?25l \r",
      " 0.00min [ ---------- 0.00% ] 0.00min , end time: 10:33PM               \u001b[?25h\n"
     ]
    },
    {
     "name": "stdout",
     "output_type": "stream",
     "text": [
      "2021-10-22 22:33:23,247 [INFO] Tools::generate() | Error in HitMiss procedure: Maximum value of random number generation smaller then amplitude maximum! We raise the maximum to 9.92631 value and restart generation!\n"
     ]
    },
    {
     "name": "stdout",
     "output_type": "stream",
     "text": [
      "\u001b[?25l \r",
      " 0.00min [ ---------- 0.00% ] 0.00min , end time: 10:33PM               \u001b[?25h\n"
     ]
    },
    {
     "name": "stdout",
     "output_type": "stream",
     "text": [
      "\u001b[?25l \r",
      " 0.03min [ *********- 89.19% ] 0.00min , end time: 10:33PM               \u001b[?25h\u001b[?25l \r",
      " 0.03min [ ********** 100.00% ] 0.00min , end time: 10:33PM               \u001b[?25h2021-10-22 22:33:25,403 [INFO] Successfully generated 10000 with an efficiency of 0.0740741\n"
     ]
    },
    {
     "name": "stdout",
     "output_type": "stream",
     "text": [
      "\n"
     ]
    }
   ],
   "source": [
    "# specify kinematics\n",
    "particle_list = pwa.read_particles(\"model.xml\")\n",
    "kinematics = pwa.create_helicity_kinematics(\"model.xml\", particle_list)\n",
    "\n",
    "# specify generators\n",
    "generator = pwa.EvtGenGenerator(\n",
    "    kinematics.get_particle_state_transition_kinematics_info()\n",
    ")\n",
    "random_generator = pwa.StdUniformRealGenerator(12345)\n",
    "\n",
    "# generate phase space sample\n",
    "phsp_sample = pwa.generate_phsp(int(1e5), generator, random_generator)\n",
    "\n",
    "# create intensity profile\n",
    "intensity_builder = pwa.IntensityBuilderXML(\n",
    "    \"model.xml\", particle_list, kinematics, phsp_sample\n",
    ")\n",
    "intensity = intensity_builder.create_intensity()\n",
    "\n",
    "# generate data\n",
    "data_sample = pwa.generate(\n",
    "    int(1e4), kinematics, generator, intensity, random_generator\n",
    ")"
   ]
  },
  {
   "cell_type": "raw",
   "metadata": {
    "raw_mimetype": "text/restructuredtext"
   },
   "source": [
    ".. note::\n",
    "   :mod:`pycompwa.ui` is the python interface to\n",
    "   `ComPWA's C++ modules <https://compwa.github.io/ComPWA/annotated.html>`_.\n",
    "   It has four major important components for evaluating intensities:\n",
    "  \n",
    "   * The :class:`.EventCollection` class is simply an event-based list of\n",
    "     four-momenta with a list of Particle IDs.\n",
    "   \n",
    "   * The :class:`.Kinematics` class allows one to compute kinematic\n",
    "     variables, like :math:`(s,\\theta,\\phi)` in the helicity formalism,\n",
    "     from the momentum tuples in an :class:`.EventCollection`.\n",
    "   \n",
    "   * The :class:`.DataSet` class is the result when you\n",
    "     :meth:`~pycompwa.ui.Kinematics.convert` an\n",
    "     :class:`.EventCollection`. It is essentially a table of kinematic\n",
    "     variables for each event in that original collection of four-momenta.\n",
    "\n",
    "   * The :class:`.Intensity` class allows one to compute an intensity (an\n",
    "     absolute value) for each data point in the :class:`.DataSet`. You do\n",
    "     this computation with the\n",
    "     :meth:`~pycompwa.ui.FunctionTreeIntensity.evaluate` method (see\n",
    "     :doc:`4_analyze_results`)."
   ]
  },
  {
   "cell_type": "raw",
   "metadata": {},
   "source": [
    ".. hint::\n",
    "    For more complicated data sample structures, see\n",
    "    :ref:`../tools/generate:Importance Sampling`."
   ]
  },
  {
   "cell_type": "markdown",
   "metadata": {},
   "source": [
    "## 2.2 Exporting and importing"
   ]
  },
  {
   "cell_type": "raw",
   "metadata": {
    "raw_mimetype": "text/restructuredtext"
   },
   "source": [
    "The :mod:`pycompwa.ui` module allows you to export the data samples to two\n",
    "different file formats: `ROOT files\n",
    "<https://root.cern/manual/root_files/>`_ and ASCII files."
   ]
  },
  {
   "cell_type": "code",
   "execution_count": 3,
   "metadata": {
    "execution": {
     "iopub.execute_input": "2021-10-22T22:33:25.438377Z",
     "iopub.status.busy": "2021-10-22T22:33:25.437843Z",
     "iopub.status.idle": "2021-10-22T22:33:27.874108Z",
     "shell.execute_reply": "2021-10-22T22:33:27.873275Z"
    }
   },
   "outputs": [
    {
     "name": "stderr",
     "output_type": "stream",
     "text": [
      "ERROR in cling::CIFactory::createCI(): cannot extract standard library include paths!\n"
     ]
    },
    {
     "name": "stderr",
     "output_type": "stream",
     "text": [
      "Invoking:\n",
      "  "
     ]
    },
    {
     "name": "stderr",
     "output_type": "stream",
     "text": [
      "LC_ALL=C x86_64-linux-gnu-g++-7  -O3 -DNDEBUG -xc++ -E -v /dev/null 2>&1 >/dev/null | awk '/^#include </,/^End of search/{if (!/^#include </ && !/^End of search/){ print }}' | GREP_OPTIONS= grep -E \"(c|g)\\+\\+\""
     ]
    },
    {
     "name": "stderr",
     "output_type": "stream",
     "text": [
      "\n"
     ]
    },
    {
     "name": "stderr",
     "output_type": "stream",
     "text": [
      "Results was:\n"
     ]
    },
    {
     "name": "stderr",
     "output_type": "stream",
     "text": [
      "With exit code "
     ]
    },
    {
     "name": "stderr",
     "output_type": "stream",
     "text": [
      "256"
     ]
    },
    {
     "name": "stderr",
     "output_type": "stream",
     "text": [
      "\n"
     ]
    },
    {
     "name": "stdout",
     "output_type": "stream",
     "text": [
      "2021-10-22 22:33:25,610 [INFO] Root::writeData(): writing vector of 10000 events to file generated_data.root\n"
     ]
    },
    {
     "name": "stdout",
     "output_type": "stream",
     "text": [
      "2021-10-22 22:33:25,744 [INFO] Root::writeData(): writing vector of 100000 events to file generated_phsp.root\n"
     ]
    },
    {
     "name": "stdout",
     "output_type": "stream",
     "text": [
      "2021-10-22 22:33:26,287 [INFO] Logging to file disabled!\n"
     ]
    }
   ],
   "source": [
    "# to ROOT\n",
    "pwa.write_root_data(data_sample, output_file=\"generated_data.root\")\n",
    "pwa.write_root_data(phsp_sample, output_file=\"generated_phsp.root\")\n",
    "# to ASCII\n",
    "pwa.write_ascii_data(data_sample, output_file=\"generated_data.dat\")\n",
    "pwa.write_ascii_data(phsp_sample, output_file=\"generated_phsp.dat\")"
   ]
  },
  {
   "cell_type": "markdown",
   "metadata": {},
   "source": [
    "The syntax for importing parallels that:"
   ]
  },
  {
   "cell_type": "code",
   "execution_count": 4,
   "metadata": {
    "execution": {
     "iopub.execute_input": "2021-10-22T22:33:28.382650Z",
     "iopub.status.busy": "2021-10-22T22:33:28.381994Z",
     "iopub.status.idle": "2021-10-22T22:33:28.387692Z",
     "shell.execute_reply": "2021-10-22T22:33:28.387083Z"
    }
   },
   "outputs": [
    {
     "name": "stdout",
     "output_type": "stream",
     "text": [
      "Imported data events: 10000\n",
      "Imported phsp events: 100000\n",
      "First data event:\n",
      "FourMomentumList[(-0.520903,0.885259,1.21872), (0.653672,-0.813022,1.46359), (-0.132769,-0.0722372,0.414596)]\n",
      "1.0\n"
     ]
    }
   ],
   "source": [
    "imported_data = pwa.read_root_data(input_file=\"generated_data.root\")\n",
    "imported_phsp = pwa.read_ascii_data(input_file=\"generated_phsp.dat\")\n",
    "\n",
    "print(\"Imported data events:\", len(imported_data.events))\n",
    "print(\"Imported phsp events:\", len(imported_phsp.events))\n",
    "\n",
    "first_event = imported_data.events[0]\n",
    "print(\"First data event:\")\n",
    "print(first_event.four_momenta)\n",
    "print(first_event.weight)"
   ]
  },
  {
   "cell_type": "markdown",
   "metadata": {},
   "source": [
    "Note that the ASCII (``.dat``) files contain a header section that informs\n",
    "you about the final state of the file. You will have to prepend this section\n",
    "to the file yourself if you want to use an ASCII file that was exported from\n",
    "another framework."
   ]
  },
  {
   "cell_type": "code",
   "execution_count": 5,
   "metadata": {
    "execution": {
     "iopub.execute_input": "2021-10-22T22:33:28.392981Z",
     "iopub.status.busy": "2021-10-22T22:33:28.391959Z",
     "iopub.status.idle": "2021-10-22T22:33:28.397313Z",
     "shell.execute_reply": "2021-10-22T22:33:28.396831Z"
    }
   },
   "outputs": [
    {
     "name": "stdout",
     "output_type": "stream",
     "text": [
      "<header>\n",
      "\tPids: [22, 111, 111]\n",
      "\tOrder: px py pz E\n",
      "\tUnit: GeV\n",
      "</header>\n"
     ]
    }
   ],
   "source": [
    "with open(\"generated_data.dat\") as f:\n",
    "    for _ in range(5):\n",
    "        print(f.readline()[:-1])"
   ]
  }
 ],
 "metadata": {
  "celltoolbar": "Raw Cell Format",
  "kernelspec": {
   "display_name": "Python 3",
   "language": "python",
   "name": "python3"
  },
  "language_info": {
   "codemirror_mode": {
    "name": "ipython",
    "version": 3
   },
   "file_extension": ".py",
   "mimetype": "text/x-python",
   "name": "python",
   "nbconvert_exporter": "python",
   "pygments_lexer": "ipython3",
   "version": "3.7.12"
  }
 },
 "nbformat": 4,
 "nbformat_minor": 4
}
