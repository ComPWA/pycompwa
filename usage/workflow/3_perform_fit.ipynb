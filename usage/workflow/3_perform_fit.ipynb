{
 "cells": [
  {
   "cell_type": "raw",
   "metadata": {
    "raw_mimetype": "text/restructuredtext"
   },
   "source": [
    "Download this notebook :download:`here <3_perform_fit.ipynb>`."
   ]
  },
  {
   "cell_type": "markdown",
   "metadata": {},
   "source": [
    "# Step 3: Perform fit"
   ]
  },
  {
   "cell_type": "raw",
   "metadata": {
    "raw_mimetype": "text/restructuredtext"
   },
   "source": [
    "As explained in the :doc:`previous step <2_generate_data>`, an\n",
    ":class:`~.Intensity` object behaves just like a mathematical function that\n",
    "takes a :class:`~.DataSet` as an argument and returns a list of intensities\n",
    "(real numbers). We now want to optimize the parameters of the intensity model\n",
    "so that it matches the distribution of our data sample. This is what we call\n",
    "'performing a fit'."
   ]
  },
  {
   "cell_type": "raw",
   "metadata": {
    "raw_mimetype": "text/restructuredtext"
   },
   "source": [
    ".. note::\n",
    "    We first load the relevant data from the previous steps."
   ]
  },
  {
   "cell_type": "code",
   "execution_count": 1,
   "metadata": {
    "execution": {
     "iopub.execute_input": "2021-10-23T11:12:39.969104Z",
     "iopub.status.busy": "2021-10-23T11:12:39.968514Z",
     "iopub.status.idle": "2021-10-23T11:12:40.576439Z",
     "shell.execute_reply": "2021-10-23T11:12:40.577212Z"
    }
   },
   "outputs": [
    {
     "name": "stdout",
     "output_type": "stream",
     "text": [
      "2021-10-23 11:12:40,252 INFO [default] Logging to file disabled!\n",
      "2021-10-23 11:12:40,252 [INFO] Log level: INFO\n",
      "2021-10-23 11:12:40,252 [INFO] Current date and time: Sat Oct 23 11:12:40 2021\n",
      "\n"
     ]
    },
    {
     "name": "stderr",
     "output_type": "stream",
     "text": [
      "/opt/hostedtoolcache/Python/3.7.12/x64/lib/python3.7/site-packages/traitlets/traitlets.py:3050: FutureWarning: --rc={'figure.dpi': 96} for dict-traits is deprecated in traitlets 5.0. You can pass --rc <key=value> ... multiple times to add items to a dict.\n",
      "  FutureWarning,\n"
     ]
    }
   ],
   "source": [
    "import pycompwa.ui as pwa"
   ]
  },
  {
   "cell_type": "code",
   "execution_count": 2,
   "metadata": {
    "execution": {
     "iopub.execute_input": "2021-10-23T11:12:40.589091Z",
     "iopub.status.busy": "2021-10-23T11:12:40.588498Z",
     "iopub.status.idle": "2021-10-23T11:12:43.041312Z",
     "shell.execute_reply": "2021-10-23T11:12:43.040765Z"
    }
   },
   "outputs": [
    {
     "name": "stdout",
     "output_type": "stream",
     "text": [
      "2021-10-23 11:12:40,586 [INFO] HelicityKinematics::HelicityKinematics() | Initialized kinematics for reaction ( J/psi )->( gamma[ID=2] pi0[ID=3] pi0[ID=4] )\n",
      "Event position to final state ID mapping:\n",
      "0: 2\n",
      "1: 3\n",
      "2: 4\n",
      "\n"
     ]
    },
    {
     "name": "stdout",
     "output_type": "stream",
     "text": [
      "2021-10-23 11:12:40,588 [INFO] creating all Subsystems!\n"
     ]
    },
    {
     "name": "stderr",
     "output_type": "stream",
     "text": [
      "ERROR in cling::CIFactory::createCI(): cannot extract standard library include paths!\n"
     ]
    },
    {
     "name": "stderr",
     "output_type": "stream",
     "text": [
      "Invoking:\n",
      "  "
     ]
    },
    {
     "name": "stderr",
     "output_type": "stream",
     "text": [
      "LC_ALL=C x86_64-linux-gnu-g++-7  -O3 -DNDEBUG -xc++ -E -v /dev/null 2>&1 >/dev/null | awk '/^#include </,/^End of search/{if (!/^#include </ && !/^End of search/){ print }}' | GREP_OPTIONS= grep -E \"(c|g)\\+\\+\""
     ]
    },
    {
     "name": "stderr",
     "output_type": "stream",
     "text": [
      "\n"
     ]
    },
    {
     "name": "stderr",
     "output_type": "stream",
     "text": [
      "Results was:\n"
     ]
    },
    {
     "name": "stderr",
     "output_type": "stream",
     "text": [
      "With exit code "
     ]
    },
    {
     "name": "stderr",
     "output_type": "stream",
     "text": [
      "256"
     ]
    },
    {
     "name": "stderr",
     "output_type": "stream",
     "text": [
      "\n"
     ]
    },
    {
     "name": "stdout",
     "output_type": "stream",
     "text": [
      "2021-10-23 11:12:41,023 [INFO] Setting phase space sample weights...\n"
     ]
    },
    {
     "name": "stdout",
     "output_type": "stream",
     "text": [
      "2021-10-23 11:12:41,032 [INFO] Updating data container content...\n"
     ]
    }
   ],
   "source": [
    "particle_list = pwa.read_particles(\"model.xml\")\n",
    "kinematics = pwa.create_helicity_kinematics(\"model.xml\", particle_list)\n",
    "kinematics.create_all_subsystems()\n",
    "data_sample = pwa.read_root_data(input_file=\"generated_data.root\")\n",
    "phsp_sample = pwa.read_root_data(input_file=\"generated_phsp.root\")\n",
    "intensity_builder = pwa.IntensityBuilderXML(\n",
    "    \"model.xml\", particle_list, kinematics, phsp_sample\n",
    ")\n",
    "intensity = intensity_builder.create_intensity()"
   ]
  },
  {
   "cell_type": "markdown",
   "metadata": {},
   "source": [
    "## 3.1 Define estimator"
   ]
  },
  {
   "cell_type": "markdown",
   "metadata": {},
   "source": [
    "To perform a fit, you need to define an **estimator**. An estimator is a\n",
    "measure for the discrepancy between the intensity model and the data\n",
    "distribution to which you fit. To create an estimator we therefore generally\n",
    "need:"
   ]
  },
  {
   "cell_type": "raw",
   "metadata": {
    "raw_mimetype": "text/restructuredtext"
   },
   "source": [
    "- an :class:`~.Intensity` instance\n",
    "- a :class:`~.DataSet` to which we fit that intensity\n",
    "\n",
    "The data sample of momentum tuples can be converted to a :class:`~.DataSet`\n",
    "as follows:"
   ]
  },
  {
   "cell_type": "code",
   "execution_count": 3,
   "metadata": {
    "execution": {
     "iopub.execute_input": "2021-10-23T11:12:43.110403Z",
     "iopub.status.busy": "2021-10-23T11:12:43.109246Z",
     "iopub.status.idle": "2021-10-23T11:12:43.113712Z",
     "shell.execute_reply": "2021-10-23T11:12:43.113223Z"
    }
   },
   "outputs": [],
   "source": [
    "data_set = kinematics.convert(data_sample)"
   ]
  },
  {
   "cell_type": "markdown",
   "metadata": {},
   "source": [
    "Now we can create an estimator. In this example, we use an\n",
    "**unbinned log likelihood** estimator. This estimator is used most commonly\n",
    "in high-energy physics."
   ]
  },
  {
   "cell_type": "code",
   "execution_count": 4,
   "metadata": {
    "execution": {
     "iopub.execute_input": "2021-10-23T11:12:43.272436Z",
     "iopub.status.busy": "2021-10-23T11:12:43.271301Z",
     "iopub.status.idle": "2021-10-23T11:12:43.274754Z",
     "shell.execute_reply": "2021-10-23T11:12:43.275159Z"
    }
   },
   "outputs": [],
   "source": [
    "(\n",
    "    estimator,\n",
    "    initial_parameters,\n",
    ") = pwa.create_unbinned_log_likelihood_function_tree_estimator(\n",
    "    intensity, data_set\n",
    ")"
   ]
  },
  {
   "cell_type": "markdown",
   "metadata": {},
   "source": [
    "Notice that you not only receive a estimator object, but also a list of fit\n",
    "parameters. You use this list of fit parameters to initialize the optimizer\n",
    "later on.\n",
    "\n",
    "The parameters contains the following info:\n",
    "\n",
    "- initial value\n",
    "- whether they are free or fixed\n",
    "- optional upper and lower limits\n",
    "- errors that give certain optimizers hints on the step size"
   ]
  },
  {
   "cell_type": "code",
   "execution_count": 5,
   "metadata": {
    "execution": {
     "iopub.execute_input": "2021-10-23T11:12:43.282910Z",
     "iopub.status.busy": "2021-10-23T11:12:43.282399Z",
     "iopub.status.idle": "2021-10-23T11:12:43.285339Z",
     "shell.execute_reply": "2021-10-23T11:12:43.285832Z"
    }
   },
   "outputs": [
    {
     "data": {
      "text/plain": [
       "[strength_incoherent: 1 (fixed),\n",
       " mass_f21270: 1.2751 +- 0.0012 (fixed),\n",
       " Mass_gamma: 0 (fixed),\n",
       " Mass_jpsi: 3.0969 (fixed),\n",
       " Mass_neutralPion: 0.134977 +- 6e-06 (fixed),\n",
       " width_f21270: 0.185 (fixed),\n",
       " Radius_f21270: 1 (fixed),\n",
       " Magnitude_J/psi_to_f2(1270)_0+gamma_-1;f2(1270)_to_pi0_0+pi0_0;: 1,\n",
       " Phase_J/psi_to_f2(1270)_0+gamma_-1;f2(1270)_to_pi0_0+pi0_0;: 0,\n",
       " mass_f21950: 1.944 +- 0.012 (fixed),\n",
       " width_f21950: 0.472 (fixed),\n",
       " Radius_f21950: 1 (fixed),\n",
       " Magnitude_J/psi_to_f2(1950)_0+gamma_-1;f2(1950)_to_pi0_0+pi0_0;: 1,\n",
       " Phase_J/psi_to_f2(1950)_0+gamma_-1;f2(1950)_to_pi0_0+pi0_0;: 0,\n",
       " Magnitude_J/psi_to_f2(1270)_-1+gamma_-1;f2(1270)_to_pi0_0+pi0_0;: 1,\n",
       " Phase_J/psi_to_f2(1270)_-1+gamma_-1;f2(1270)_to_pi0_0+pi0_0;: 0,\n",
       " Magnitude_J/psi_to_f2(1950)_-1+gamma_-1;f2(1950)_to_pi0_0+pi0_0;: 1,\n",
       " Phase_J/psi_to_f2(1950)_-1+gamma_-1;f2(1950)_to_pi0_0+pi0_0;: 0,\n",
       " Magnitude_J/psi_to_f2(1270)_-2+gamma_-1;f2(1270)_to_pi0_0+pi0_0;: 1,\n",
       " Phase_J/psi_to_f2(1270)_-2+gamma_-1;f2(1270)_to_pi0_0+pi0_0;: 0,\n",
       " Magnitude_J/psi_to_f2(1950)_-2+gamma_-1;f2(1950)_to_pi0_0+pi0_0;: 1,\n",
       " Phase_J/psi_to_f2(1950)_-2+gamma_-1;f2(1950)_to_pi0_0+pi0_0;: 0,\n",
       " mass_f0980: 0.994 +- 0.001 (fixed),\n",
       " width_f0980: 0.07 (fixed),\n",
       " Radius_f0980: 1 (fixed),\n",
       " Magnitude_J/psi_to_f0(980)_0+gamma_-1;f0(980)_to_pi0_0+pi0_0;: 1,\n",
       " Phase_J/psi_to_f0(980)_0+gamma_-1;f0(980)_to_pi0_0+pi0_0;: 0,\n",
       " mass_f01500: 1.505 +- 0.006 (fixed),\n",
       " width_f01500: 0.109 (fixed),\n",
       " Radius_f01500: 1 (fixed),\n",
       " Magnitude_J/psi_to_f0(1500)_0+gamma_-1;f0(1500)_to_pi0_0+pi0_0;: 1,\n",
       " Phase_J/psi_to_f0(1500)_0+gamma_-1;f0(1500)_to_pi0_0+pi0_0;: 0]"
      ]
     },
     "execution_count": 5,
     "metadata": {},
     "output_type": "execute_result"
    }
   ],
   "source": [
    "initial_parameters"
   ]
  },
  {
   "cell_type": "markdown",
   "metadata": {},
   "source": [
    "## 3.2 Modify parameters"
   ]
  },
  {
   "cell_type": "markdown",
   "metadata": {},
   "source": [
    "The fit parameters in this list have been initialized with the values stated\n",
    "in the XML file or with default values if unspecified, but they can easily be\n",
    "modified in Python as well:"
   ]
  },
  {
   "cell_type": "code",
   "execution_count": 6,
   "metadata": {
    "execution": {
     "iopub.execute_input": "2021-10-23T11:12:43.288709Z",
     "iopub.status.busy": "2021-10-23T11:12:43.288208Z",
     "iopub.status.idle": "2021-10-23T11:12:43.293296Z",
     "shell.execute_reply": "2021-10-23T11:12:43.293745Z"
    }
   },
   "outputs": [
    {
     "name": "stdout",
     "output_type": "stream",
     "text": [
      "\n",
      "this parameter is initially not fixed:\n",
      "Phase_J/psi_to_f2(1270)_0+gamma_-1;f2(1270)_to_pi0_0+pi0_0;: 0\n",
      "\n",
      "and now it is fixed:\n",
      "Phase_J/psi_to_f2(1270)_0+gamma_-1;f2(1270)_to_pi0_0+pi0_0;: 0 (fixed)\n"
     ]
    }
   ],
   "source": [
    "print(\"\\nthis parameter is initially not fixed:\")\n",
    "print(initial_parameters[8])\n",
    "\n",
    "initial_parameters[7].is_fixed = True\n",
    "initial_parameters[8].is_fixed = True\n",
    "print(\"\\nand now it is fixed:\")\n",
    "print(initial_parameters[8])"
   ]
  },
  {
   "cell_type": "markdown",
   "metadata": {},
   "source": [
    "To make the fit process a bit more interesting, we modify one of the\n",
    "parameters to a different initial value than the true value:"
   ]
  },
  {
   "cell_type": "code",
   "execution_count": 7,
   "metadata": {
    "execution": {
     "iopub.execute_input": "2021-10-23T11:12:43.298614Z",
     "iopub.status.busy": "2021-10-23T11:12:43.298084Z",
     "iopub.status.idle": "2021-10-23T11:12:43.302649Z",
     "shell.execute_reply": "2021-10-23T11:12:43.303087Z"
    }
   },
   "outputs": [
    {
     "data": {
      "text/plain": [
       "Magnitude_J/psi_to_f2(1950)_0+gamma_-1;f2(1950)_to_pi0_0+pi0_0;: 1"
      ]
     },
     "execution_count": 7,
     "metadata": {},
     "output_type": "execute_result"
    }
   ],
   "source": [
    "original_value = initial_parameters[12].value\n",
    "initial_parameters[12]"
   ]
  },
  {
   "cell_type": "code",
   "execution_count": 8,
   "metadata": {
    "execution": {
     "iopub.execute_input": "2021-10-23T11:12:43.307682Z",
     "iopub.status.busy": "2021-10-23T11:12:43.307129Z",
     "iopub.status.idle": "2021-10-23T11:12:43.309959Z",
     "shell.execute_reply": "2021-10-23T11:12:43.310408Z"
    }
   },
   "outputs": [
    {
     "data": {
      "text/plain": [
       "Magnitude_J/psi_to_f2(1950)_0+gamma_-1;f2(1950)_to_pi0_0+pi0_0;: 2"
      ]
     },
     "execution_count": 8,
     "metadata": {},
     "output_type": "execute_result"
    }
   ],
   "source": [
    "initial_parameters[12].value = 2.0\n",
    "initial_parameters[12]"
   ]
  },
  {
   "cell_type": "markdown",
   "metadata": {},
   "source": [
    "## 3.3 Optimize the intensity model"
   ]
  },
  {
   "cell_type": "raw",
   "metadata": {
    "raw_mimetype": "text/restructuredtext"
   },
   "source": [
    "Now it's time to perform the fit! This is quite simple: just create an\n",
    "optimizer instance of your choice, here `Minuit2\n",
    "<https://root.cern.ch/doc/master/Minuit2Page.html>`_,\n",
    "and call its :meth:`~.optimize` method to start the fitting process."
   ]
  },
  {
   "cell_type": "markdown",
   "metadata": {},
   "source": [
    "The computation time depends on the complexity of the model, number of data\n",
    "events, the size of the phase space sample, and the number of free\n",
    "parameters."
   ]
  },
  {
   "cell_type": "code",
   "execution_count": 9,
   "metadata": {
    "execution": {
     "iopub.execute_input": "2021-10-23T11:12:43.317085Z",
     "iopub.status.busy": "2021-10-23T11:12:43.316523Z",
     "iopub.status.idle": "2021-10-23T11:12:43.319468Z",
     "shell.execute_reply": "2021-10-23T11:12:43.319927Z"
    }
   },
   "outputs": [
    {
     "name": "stdout",
     "output_type": "stream",
     "text": [
      "data size 10000\n",
      "phsp size 100000\n",
      "free parameters: 14\n"
     ]
    }
   ],
   "source": [
    "print(\"data size\", len(data_sample.events))\n",
    "print(\"phsp size\", len(phsp_sample.events))\n",
    "print(\n",
    "    \"free parameters:\",\n",
    "    len([par for par in initial_parameters if not par.is_fixed]),\n",
    ")"
   ]
  },
  {
   "cell_type": "raw",
   "metadata": {
    "raw_mimetype": "text/restructuredtext"
   },
   "source": [
    ".. note::\n",
    "    With 14 free parameters, this fit takes about 15 seconds on an Intel(R)\n",
    "    Core(TM) i7-6820HQ 2.70GHz CPU"
   ]
  },
  {
   "cell_type": "code",
   "execution_count": 10,
   "metadata": {
    "execution": {
     "iopub.execute_input": "2021-10-23T11:12:43.325411Z",
     "iopub.status.busy": "2021-10-23T11:12:43.324780Z",
     "iopub.status.idle": "2021-10-23T11:13:03.386959Z",
     "shell.execute_reply": "2021-10-23T11:13:03.387403Z"
    }
   },
   "outputs": [
    {
     "name": "stdout",
     "output_type": "stream",
     "text": [
      "2021-10-23 11:12:43,322 [INFO] MinuitIF::optimize() | Number of parameters (free): 32 (14)\n"
     ]
    },
    {
     "name": "stdout",
     "output_type": "stream",
     "text": [
      "2021-10-23 11:12:43,322 [INFO] Minuit2 strategy: medium\n",
      "       GradientNCycles: 3\n",
      "       GradientStepTolerance: 0.3\n",
      "       GradientTolerance: 0.05\n",
      "       HessianNCycles: 5\n",
      "       HessianGradientNCycles: 2\n",
      "       HessianStepTolerance: 0.3\n",
      "       HessianG2Tolerance: 0.05\n"
     ]
    },
    {
     "name": "stdout",
     "output_type": "stream",
     "text": [
      "2021-10-23 11:12:43,323 [INFO] MinuitIF::optimize() | Starting migrad: maxCalls=0 tolerance=0.1\n"
     ]
    },
    {
     "name": "stdout",
     "output_type": "stream",
     "text": [
      "2021-10-23 11:13:00,117 [INFO] MinuitIF::optimize() | Migrad finished! Minimum is valid = 1\n"
     ]
    },
    {
     "name": "stdout",
     "output_type": "stream",
     "text": [
      "2021-10-23 11:13:00,119 [INFO] MinuitIF::optimize() | Starting hesse\n"
     ]
    },
    {
     "name": "stdout",
     "output_type": "stream",
     "text": [
      "2021-10-23 11:13:03,379 [INFO] MinuitIF::optimize() | Hesse finished\n"
     ]
    },
    {
     "name": "stdout",
     "output_type": "stream",
     "text": [
      "2021-10-23 11:13:03,381 [INFO] MinuitIF::optimize() | Minimization finished! LH = -5496.086088\n"
     ]
    }
   ],
   "source": [
    "optimizer = pwa.MinuitIF()\n",
    "fit_result = optimizer.optimize(estimator, initial_parameters)"
   ]
  },
  {
   "cell_type": "code",
   "execution_count": 11,
   "metadata": {
    "execution": {
     "iopub.execute_input": "2021-10-23T11:13:03.392400Z",
     "iopub.status.busy": "2021-10-23T11:13:03.391732Z",
     "iopub.status.idle": "2021-10-23T11:13:03.394678Z",
     "shell.execute_reply": "2021-10-23T11:13:03.395125Z"
    }
   },
   "outputs": [
    {
     "data": {
      "text/plain": [
       "20"
      ]
     },
     "execution_count": 11,
     "metadata": {},
     "output_type": "execute_result"
    }
   ],
   "source": [
    "fit_result.fit_duration_in_seconds"
   ]
  },
  {
   "cell_type": "markdown",
   "metadata": {},
   "source": [
    "Let's check whether the fit parameters are close to the true values."
   ]
  },
  {
   "cell_type": "code",
   "execution_count": 12,
   "metadata": {
    "execution": {
     "iopub.execute_input": "2021-10-23T11:13:03.403495Z",
     "iopub.status.busy": "2021-10-23T11:13:03.401942Z",
     "iopub.status.idle": "2021-10-23T11:13:03.405816Z",
     "shell.execute_reply": "2021-10-23T11:13:03.405203Z"
    }
   },
   "outputs": [
    {
     "name": "stdout",
     "output_type": "stream",
     "text": [
      "This value is close to 1.0 again:\n",
      "0.9747981228967589 +- 0.10721062179072079\n"
     ]
    }
   ],
   "source": [
    "value = fit_result.final_parameters[12].value\n",
    "error = fit_result.final_parameters[12].error\n",
    "if abs(value - original_value) < 3 * error[0]:\n",
    "    print(\"This value is close to\", original_value, \"again:\")\n",
    "    print(value, \"+-\", error[0])  # upper and lower error are equal in hesse\n",
    "else:\n",
    "    raise Exception(\"Value does not lie within 3 sigma!\")"
   ]
  },
  {
   "cell_type": "raw",
   "metadata": {
    "raw_mimetype": "text/restructuredtext"
   },
   "source": [
    ".. warning::\n",
    "\n",
    "    The intensity instance still needs to be notified about this optimal set\n",
    "    of parameters. They can be applied with :meth:`~.updateParametersFrom`."
   ]
  },
  {
   "cell_type": "code",
   "execution_count": 13,
   "metadata": {
    "execution": {
     "iopub.execute_input": "2021-10-23T11:13:03.411551Z",
     "iopub.status.busy": "2021-10-23T11:13:03.410109Z",
     "iopub.status.idle": "2021-10-23T11:13:03.412232Z",
     "shell.execute_reply": "2021-10-23T11:13:03.412710Z"
    }
   },
   "outputs": [],
   "source": [
    "intensity.updateParametersFrom(fit_result.final_parameters)"
   ]
  },
  {
   "cell_type": "markdown",
   "metadata": {},
   "source": [
    "## 3.4 Exporting and importing"
   ]
  },
  {
   "cell_type": "markdown",
   "metadata": {},
   "source": [
    "Optimizing an intensity model can take a long time, so it is important that\n",
    "you store the fit result in the end. We again write to an XML file (but note\n",
    "that this has a different format than that of the amplitude model)."
   ]
  },
  {
   "cell_type": "code",
   "execution_count": 14,
   "metadata": {
    "execution": {
     "iopub.execute_input": "2021-10-23T11:13:03.419315Z",
     "iopub.status.busy": "2021-10-23T11:13:03.417572Z",
     "iopub.status.idle": "2021-10-23T11:13:03.419930Z",
     "shell.execute_reply": "2021-10-23T11:13:03.420456Z"
    }
   },
   "outputs": [],
   "source": [
    "fit_result.write(\"fit_result.xml\")"
   ]
  },
  {
   "cell_type": "code",
   "execution_count": 15,
   "metadata": {
    "execution": {
     "iopub.execute_input": "2021-10-23T11:13:03.428675Z",
     "iopub.status.busy": "2021-10-23T11:13:03.427041Z",
     "iopub.status.idle": "2021-10-23T11:13:03.430871Z",
     "shell.execute_reply": "2021-10-23T11:13:03.430350Z"
    }
   },
   "outputs": [
    {
     "name": "stdout",
     "output_type": "stream",
     "text": [
      "Magnitude_J/psi_to_f2(1950)_0+gamma_-1;f2(1950)_to_pi0_0+pi0_0;: 0.974798 +- 0.107211\n"
     ]
    }
   ],
   "source": [
    "imported_fit_result = pwa.load(\"fit_result.xml\")\n",
    "\n",
    "exported_value = fit_result.final_parameters[12].value\n",
    "imported_value = imported_fit_result.final_parameters[12].value\n",
    "\n",
    "if exported_value != imported_value:\n",
    "    raise Exception\n",
    "else:\n",
    "    print(imported_fit_result.final_parameters[12])"
   ]
  }
 ],
 "metadata": {
  "celltoolbar": "Raw Cell Format",
  "kernelspec": {
   "display_name": "Python 3",
   "language": "python",
   "name": "python3"
  },
  "language_info": {
   "codemirror_mode": {
    "name": "ipython",
    "version": 3
   },
   "file_extension": ".py",
   "mimetype": "text/x-python",
   "name": "python",
   "nbconvert_exporter": "python",
   "pygments_lexer": "ipython3",
   "version": "3.7.12"
  }
 },
 "nbformat": 4,
 "nbformat_minor": 4
}
