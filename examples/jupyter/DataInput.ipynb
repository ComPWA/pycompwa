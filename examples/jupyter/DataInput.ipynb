{
 "cells": [
  {
   "cell_type": "markdown",
   "metadata": {},
   "source": [
    "Importing Data\n",
    "---------------------\n",
    "\n",
    "This notebook shows how to conveniently input your data into ComPWA using the python interface!\n",
    "Also it shows how to calculate kinematic variables."
   ]
  },
  {
   "cell_type": "raw",
   "metadata": {},
   "source": [
    ".. note::\n",
    "   In this example the data is loaded from a ROOT file via `uproot <https://github.com/scikit-hep/uproot>`__, this part can of course be exchanged by your data format."
   ]
  },
  {
   "cell_type": "code",
   "execution_count": null,
   "metadata": {},
   "outputs": [],
   "source": [
    "import pycompwa.ui as pwa\n",
    "import uproot\n",
    "import numpy as np"
   ]
  },
  {
   "cell_type": "markdown",
   "metadata": {},
   "source": [
    "Before we can start, a dummy root data file has to be created. Normally you would skip the next step, since you already have a data file that you want to import."
   ]
  },
  {
   "cell_type": "code",
   "execution_count": null,
   "metadata": {},
   "outputs": [],
   "source": [
    "with uproot.recreate(\"tuples.root\") as f:\n",
    "    f[\"data\"] = uproot.newtree({\"D0.px\": \"float64\",\n",
    "                                \"D0.py\": \"float64\",\n",
    "                                \"D0.pz\": \"float64\",\n",
    "                                \"D0.E\": \"float64\",\n",
    "                                \"Dm.px\": \"float64\",\n",
    "                                \"Dm.py\": \"float64\",\n",
    "                                \"Dm.pz\": \"float64\",\n",
    "                                \"Dm.E\": \"float64\",\n",
    "                                \"pip.px\": \"float64\",\n",
    "                                \"pip.py\": \"float64\",\n",
    "                                \"pip.pz\": \"float64\",\n",
    "                                \"pip.E\": \"float64\"\n",
    "                               })\n",
    "    f[\"data\"].extend({\"D0.px\": np.array([-0.63207397,  0.11329174, -0.32988257]),\n",
    "                      \"D0.py\": np.array([-0.02727499,  0.39965045, 0.1848439 ]),\n",
    "                      \"D0.pz\": np.array([ 0.16475981,  0.28701658, -0.37938268]),\n",
    "                      \"D0.E\": np.array([2.0180088, 1.92316975, 1.93920292]),\n",
    "                      \"Dm.px\": np.array([0.48782456, 0.08336758, 0.10971082]),\n",
    "                      \"Dm.py\": np.array([-0.10812153, -0.56649819, -0.13254077]),\n",
    "                      \"Dm.pz\": np.array([-0.12110724, -0.35891476, 0.44891566]),\n",
    "                      \"Dm.E\": np.array([1.95351745, 1.96315494, 1.94968155]),\n",
    "                      \"pip.px\": np.array([ 0.16118203, -0.10011399, 0.24527202]),\n",
    "                      \"pip.py\": np.array([ 0.10152041, 0.19745644, -0.04717316]),\n",
    "                      \"pip.pz\": np.array([-0.03064159, 0.0802533, -0.04723599]),\n",
    "                      \"pip.E\": np.array([0.23812766, 0.27373762, 0.28999094])\n",
    "                     })"
   ]
  },
  {
   "cell_type": "markdown",
   "metadata": {},
   "source": [
    "First load the data from the root file and bundle the 4 vector data in numpy arrays"
   ]
  },
  {
   "cell_type": "code",
   "execution_count": null,
   "metadata": {},
   "outputs": [],
   "source": [
    "tree = uproot.open(\"tuples.root\")[\"data\"]\n",
    "parts = tree.arrays(['D0*', 'Dm*', 'pip*'])\n",
    "D0s = np.array((parts[b'D0.px'],parts[b'D0.py'],parts[b'D0.pz'],parts[b'D0.E'])).T\n",
    "Dms = np.array((parts[b'Dm.px'],parts[b'Dm.py'],parts[b'Dm.pz'],parts[b'Dm.E'])).T\n",
    "pis = np.array((parts[b'pip.px'],parts[b'pip.py'],parts[b'pip.pz'],parts[b'pip.E'])).T"
   ]
  },
  {
   "cell_type": "markdown",
   "metadata": {},
   "source": [
    "Now construct ComPWA `Event`s by handing it a list of `FourMomentum`."
   ]
  },
  {
   "cell_type": "code",
   "execution_count": null,
   "metadata": {},
   "outputs": [],
   "source": [
    "evts = [pwa.Event(pwa.FourMomentumList([pwa.FourMomentum(x[0]), pwa.FourMomentum(x[1]), pwa.FourMomentum(x[2])]))\n",
    "     for x in zip(D0s, Dms, pis)]\n",
    "\n",
    "evtcoll = pwa.EventCollection(\n",
    "     [421, -411, 211],\n",
    "     pwa.EventList(evts)\n",
    ")\n",
    "print(\"Event 0:\",evtcoll.events[0].four_momenta)"
   ]
  },
  {
   "cell_type": "raw",
   "metadata": {},
   "source": [
    "That's it! At this point you successfully imported your data into ComPWA and are ready to do PWA! Alternatively the `RootDataIO` class can be used. More info about this in the :ref:`docs<dataio>`.\n",
    "\n",
    "\n",
    "You can proceed with other tasks. Below it is shown how to calculate the kinematic variables from an `EventCollection`."
   ]
  },
  {
   "cell_type": "code",
   "execution_count": null,
   "metadata": {},
   "outputs": [],
   "source": [
    "partlist = pwa.read_particles('../../ComPWA/Physics/particle_list.xml')\n",
    "kin = pwa.HelicityKinematics(partlist, [421], [421, -411, 211])\n",
    "kin.create_all_subsystems()"
   ]
  },
  {
   "cell_type": "markdown",
   "metadata": {},
   "source": [
    "Using the `Kinematics.convert()` function the `EventCollection` can be converted to a `DataSet`, which contains all of the registered kinematic variables (in this example all possible kinematic variables)."
   ]
  },
  {
   "cell_type": "code",
   "execution_count": null,
   "metadata": {},
   "outputs": [],
   "source": [
    "dataset = kin.convert(evtcoll)"
   ]
  },
  {
   "cell_type": "code",
   "execution_count": null,
   "metadata": {},
   "outputs": [],
   "source": [
    "print(\"kinematic variable names:\", list(dataset.data.keys()))\n",
    "print(dataset.data)"
   ]
  }
 ],
 "metadata": {
  "kernelspec": {
   "display_name": "Python 3",
   "language": "python",
   "name": "python3"
  },
  "language_info": {
   "codemirror_mode": {
    "name": "ipython",
    "version": 3
   },
   "file_extension": ".py",
   "mimetype": "text/x-python",
   "name": "python",
   "nbconvert_exporter": "python",
   "pygments_lexer": "ipython3",
   "version": "3.6.9"
  }
 },
 "nbformat": 4,
 "nbformat_minor": 2
}
