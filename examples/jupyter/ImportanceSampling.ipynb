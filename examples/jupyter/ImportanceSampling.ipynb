{
 "cells": [
  {
   "cell_type": "markdown",
   "metadata": {},
   "source": [
    "# Importance Sampling\n",
    "\n",
    "The $J/\\Psi \\rightarrow \\gamma \\pi^0 \\pi^0$ decay is used here (which has a narrow $\\omega$ state)\n",
    "\n",
    "Let's go!\n",
    "\n",
    "## Step 1: Define intensity\n",
    "First we create the intensity. If this step looks unfamiliar to you, you might want to check other intensity construction examples using the expert system."
   ]
  },
  {
   "cell_type": "code",
   "execution_count": null,
   "metadata": {},
   "outputs": [],
   "source": [
    "from pycompwa.expertsystem.ui.system_control import (\n",
    "    StateTransitionManager, InteractionTypes)\n",
    "from pycompwa.expertsystem.amplitude.helicitydecay import (\n",
    "    HelicityAmplitudeGeneratorXML)\n",
    "from pycompwa.expertsystem.topology.graph import (\n",
    "    get_intermediate_state_edges)\n",
    "from pycompwa.expertsystem.state.particle import (\n",
    "    particle_list)\n",
    "    \n",
    "initial_state = [(\"J/psi\", [-1, 1])]\n",
    "final_state = [(\"gamma\", [-1, 1]), (\"pi0\", [0]), (\"pi0\", [0])]\n",
    "\n",
    "tbd_manager = StateTransitionManager(initial_state, final_state,\n",
    "                                     formalism_type='helicity',\n",
    "                                     topology_building='isobar')\n",
    "\n",
    "# The omega is so narrow that the hit&miss generation takes way too long.\n",
    "# Therefore we increase the width artificially in this example!\n",
    "omega = particle_list[\"omega(782)\"]\n",
    "parameters = omega['DecayInfo']['Parameter']\n",
    "for par in parameters:\n",
    "    if par['@Type'] == 'Width':\n",
    "        par['Value'] = 0.001\n",
    "\n",
    "tbd_manager.set_allowed_interaction_types(\n",
    "    [InteractionTypes.Strong, InteractionTypes.EM])\n",
    "tbd_manager.allowed_intermediate_particles = ['f2(1270)', 'omega']\n",
    "graph_interaction_settings_groups = tbd_manager.prepare_graphs()\n",
    "(solutions, violated_rules) = tbd_manager.find_solutions(\n",
    "        graph_interaction_settings_groups)\n",
    "\n",
    "print(\"found \" + str(len(solutions)) + \" solutions!\")\n",
    "\n",
    "xml_generator = HelicityAmplitudeGeneratorXML()\n",
    "xml_generator.generate(solutions)\n",
    "xml_generator.write_to_file('model.xml')"
   ]
  },
  {
   "cell_type": "markdown",
   "metadata": {},
   "source": [
    "## Step 2: Create intensity and generate importance weighted phase space sample\n",
    "Now we generate a phase space sample which is importance sampled by the intensity. This can easily be achieved by using the `generate_importance_sampled_phsp()` generate helper function."
   ]
  },
  {
   "cell_type": "raw",
   "metadata": {},
   "source": [
    ".. note::\n",
    "   This takes around 1 min on a Intel(R) Core(TM) i7-6820HQ CPU @ 2.70GHz running multi-threaded"
   ]
  },
  {
   "cell_type": "code",
   "execution_count": null,
   "metadata": {},
   "outputs": [],
   "source": [
    "# pycompwa is the python interface to ComPWA's c++ modules\n",
    "import pycompwa.ui as pwa\n",
    "\n",
    "particles = pwa.read_particles('model.xml')\n",
    "\n",
    "kin = pwa.create_helicity_kinematics('model.xml', particles)\n",
    "\n",
    "# generate phase space sample (flat) used for amplitude normalization\n",
    "gen = pwa.EvtGenGenerator(kin.get_particle_state_transition_kinematics_info())\n",
    "\n",
    "rand_gen = pwa.StdUniformRealGenerator(12345)\n",
    "\n",
    "phsp_sample = pwa.generate_phsp(100000, gen, rand_gen)\n",
    "\n",
    "# create intensity\n",
    "builder = pwa.IntensityBuilderXML('model.xml', particles, kin, phsp_sample)\n",
    "intensity = builder.create_intensity()\n",
    "\n",
    "# generate importance sampled phase space sample\n",
    "phsp_sample_importance = pwa.generate_importance_sampled_phsp(2000, kin, gen, intensity, rand_gen)"
   ]
  },
  {
   "cell_type": "markdown",
   "metadata": {},
   "source": [
    "## Step 3: Visualize the phase space sample\n",
    "This phase space sample can be visualized in a Dalitz plot. There one expects more events, where the intensity is large, but still an overall uniform distribution. First create all subsystems. Since in this example, we have both $f$ and $\\omega$ resonances, all subsystems already exist and this step is redundant."
   ]
  },
  {
   "cell_type": "code",
   "execution_count": null,
   "metadata": {},
   "outputs": [],
   "source": [
    "kin.create_all_subsystems()\n",
    "data_set = kin.convert(phsp_sample_importance)"
   ]
  },
  {
   "cell_type": "markdown",
   "metadata": {},
   "source": [
    "Then we can use `pandas` and `matplotlib` to create a Dalitz plot:"
   ]
  },
  {
   "cell_type": "code",
   "execution_count": null,
   "metadata": {},
   "outputs": [],
   "source": [
    "import pandas as pd\n",
    "import matplotlib.pyplot as plt\n",
    "id_to_name = kin.get_particle_state_transition_kinematics_info().get_final_state_id_to_name_mapping()\n",
    "mass_x = 'mSq_(3,4)'\n",
    "mass_y = 'mSq_(2,4)'\n",
    "plt.hist2d(\n",
    "    data_set.data[mass_x],\n",
    "    data_set.data[mass_y],\n",
    "    bins=50,\n",
    ");\n",
    "for id, name in id_to_name.items():\n",
    "    mass_x = mass_x.replace(str(id), name)\n",
    "    mass_y = mass_x.replace(str(id), name)\n",
    "plt.xlabel(mass_x);\n",
    "plt.ylabel(mass_y);"
   ]
  }
 ],
 "metadata": {
  "kernelspec": {
   "display_name": "Python 3",
   "language": "python",
   "name": "python3"
  },
  "language_info": {
   "codemirror_mode": {
    "name": "ipython",
    "version": 3
   },
   "file_extension": ".py",
   "mimetype": "text/x-python",
   "name": "python",
   "nbconvert_exporter": "python",
   "pygments_lexer": "ipython3",
   "version": "3.7.6"
  }
 },
 "nbformat": 4,
 "nbformat_minor": 2
}
