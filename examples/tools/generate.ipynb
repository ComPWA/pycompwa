{
 "cells": [
  {
   "cell_type": "raw",
   "metadata": {
    "raw_mimetype": "text/restructuredtext"
   },
   "source": [
    "Download this notebook :download:`here <generate.ipynb>`."
   ]
  },
  {
   "cell_type": "markdown",
   "metadata": {},
   "source": [
    "# Generate data samples"
   ]
  },
  {
   "cell_type": "raw",
   "metadata": {
    "raw_mimetype": "text/restructuredtext"
   },
   "source": [
    "With the :mod:`pycompwa.ui` module you can also easily create various types\n",
    "of Monte Carlo data samples:\n",
    "\n",
    ".. _generatephsp:\n",
    "\n",
    "* Generating phase space samples based on the Kinematics\n",
    "\n",
    "  .. autofunction:: pycompwa.ui.generate_phsp\n",
    "     :noindex:\n",
    "\n",
    "  A required argument is a :class:`~.PhaseSpaceEventGenerator` instance. There\n",
    "  are currently two options: :class:`~.EvtGenGenerator` and\n",
    "  :class:`~.RootGenerator`. Using the :class:`~.EvtGenGenerator` is\n",
    "  recommended, due to numerical precision.\n",
    "\n",
    "  .. autoclass:: pycompwa.ui.EvtGenGenerator\n",
    "   :special-members: __init__\n",
    "   :noindex:\n",
    "\n",
    "  To initialize such a PhaseSpaceGenerator the Kinematics information of the\n",
    "  reaction is required. This can be extracted from the\n",
    "  :class:`~.HelicityKinematics`.\n",
    "\n",
    "  The second argument for the :func:`.generate_phsp` function is a random\n",
    "  number generator. Here also two options exist:\n",
    "\n",
    "  *  .. autoclass:: pycompwa.ui.StdUniformRealGenerator\n",
    "        :special-members: __init__\n",
    "        :noindex:\n",
    "  *  .. autoclass:: pycompwa.ui.RootUniformRealGenerator\n",
    "        :special-members: __init__\n",
    "        :noindex:\n",
    "\n",
    "* Generating data samples based on a Intensity\n",
    "\n",
    "  The usage is similar to the :ref:`phase space generation <generatephsp>`. Now\n",
    "  the Intensity has to be given as an additional argument. A hit-or-miss based\n",
    "  sampling will be performed.\n",
    "\n",
    "  .. autofunction:: pycompwa.ui.generate\n",
    "     :noindex:\n",
    "\n",
    "* Generating an importance weighted phase space sample\n",
    "\n",
    "  .. autofunction:: pycompwa.ui.generate_importance_sampled_phsp\n",
    "     :noindex:\n",
    "\n",
    "  .. warning::\n",
    "     The current implementation is simple and uniformly generates events in the\n",
    "     phase space domain. Depending on the shape of your Intensity, this can be\n",
    "     quite computation intensive. However, ideally you would only run this once\n",
    "     for a specific reaction."
   ]
  }
 ],
 "metadata": {
  "celltoolbar": "Raw Cell Format",
  "kernelspec": {
   "display_name": "Python 3",
   "language": "python",
   "name": "python3"
  },
  "language_info": {
   "codemirror_mode": {
    "name": "ipython",
    "version": 3
   },
   "file_extension": ".py",
   "mimetype": "text/x-python",
   "name": "python",
   "nbconvert_exporter": "python",
   "pygments_lexer": "ipython3",
   "version": "3.7.6"
  }
 },
 "nbformat": 4,
 "nbformat_minor": 2
}
