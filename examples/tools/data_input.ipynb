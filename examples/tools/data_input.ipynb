{
 "cells": [
  {
   "cell_type": "markdown",
   "metadata": {},
   "source": [
    "# Importing Data\n",
    "\n",
    "This notebook shows how to conveniently input your data into ComPWA using the python interface!\n",
    "Also it shows how to calculate kinematic variables."
   ]
  },
  {
   "cell_type": "raw",
   "metadata": {
    "raw_mimetype": "text/restructuredtext"
   },
   "source": [
    ".. note::\n",
    "    In this example the data is loaded from a ROOT file via `uproot\n",
    "    <https://github.com/scikit-hep/uproot>`__, this part can of course be\n",
    "    exchanged by your data format."
   ]
  },
  {
   "cell_type": "code",
   "execution_count": 1,
   "metadata": {},
   "outputs": [],
   "source": [
    "import pycompwa.ui as pwa\n",
    "import uproot\n",
    "import numpy as np"
   ]
  },
  {
   "cell_type": "markdown",
   "metadata": {},
   "source": [
    "Before we can start, a dummy root data file has to be created. Normally you would skip the next step, since you already have a data file that you want to import."
   ]
  },
  {
   "cell_type": "code",
   "execution_count": 2,
   "metadata": {},
   "outputs": [],
   "source": [
    "with uproot.recreate(\"tuples.root\") as f:\n",
    "    f[\"data\"] = uproot.newtree({\n",
    "        \"D0.px\": \"float64\",\n",
    "        \"D0.py\": \"float64\",\n",
    "        \"D0.pz\": \"float64\",\n",
    "        \"D0.E\": \"float64\",\n",
    "        \"Dm.px\": \"float64\",\n",
    "        \"Dm.py\": \"float64\",\n",
    "        \"Dm.pz\": \"float64\",\n",
    "        \"Dm.E\": \"float64\",\n",
    "        \"pip.px\": \"float64\",\n",
    "        \"pip.py\": \"float64\",\n",
    "        \"pip.pz\": \"float64\",\n",
    "        \"pip.E\": \"float64\",\n",
    "    })\n",
    "    f[\"data\"].extend({\n",
    "        \"D0.px\": np.array([-0.63207397,  0.11329174, -0.32988257]),\n",
    "        \"D0.py\": np.array([-0.02727499,  0.39965045, 0.1848439]),\n",
    "        \"D0.pz\": np.array([0.16475981,  0.28701658, -0.37938268]),\n",
    "        \"D0.E\": np.array([2.0180088, 1.92316975, 1.93920292]),\n",
    "        \"Dm.px\": np.array([0.48782456, 0.08336758, 0.10971082]),\n",
    "        \"Dm.py\": np.array([-0.10812153, -0.56649819, -0.13254077]),\n",
    "        \"Dm.pz\": np.array([-0.12110724, -0.35891476, 0.44891566]),\n",
    "        \"Dm.E\": np.array([1.95351745, 1.96315494, 1.94968155]),\n",
    "        \"pip.px\": np.array([0.16118203, -0.10011399, 0.24527202]),\n",
    "        \"pip.py\": np.array([0.10152041, 0.19745644, -0.04717316]),\n",
    "        \"pip.pz\": np.array([-0.03064159, 0.0802533, -0.04723599]),\n",
    "        \"pip.E\": np.array([0.23812766, 0.27373762, 0.28999094]),\n",
    "    })"
   ]
  },
  {
   "cell_type": "markdown",
   "metadata": {},
   "source": [
    "First load the data from the root file and bundle the 4 vector data in numpy arrays"
   ]
  },
  {
   "cell_type": "code",
   "execution_count": 3,
   "metadata": {},
   "outputs": [],
   "source": [
    "tree = uproot.open(\"tuples.root\")[\"data\"]\n",
    "parts = tree.arrays(['D0*', 'Dm*', 'pip*'])\n",
    "D0s = np.array((parts[b'D0.px'], parts[b'D0.py'],\n",
    "                parts[b'D0.pz'], parts[b'D0.E'])).T\n",
    "Dms = np.array((parts[b'Dm.px'], parts[b'Dm.py'],\n",
    "                parts[b'Dm.pz'], parts[b'Dm.E'])).T\n",
    "pis = np.array((parts[b'pip.px'], parts[b'pip.py'],\n",
    "                parts[b'pip.pz'], parts[b'pip.E'])).T"
   ]
  },
  {
   "cell_type": "markdown",
   "metadata": {},
   "source": [
    "Now construct ComPWA `Event`s by handing it a list of `FourMomentum`."
   ]
  },
  {
   "cell_type": "code",
   "execution_count": 4,
   "metadata": {},
   "outputs": [
    {
     "name": "stdout",
     "output_type": "stream",
     "text": [
      "Event 0: FourMomentumList[(-0.632074,-0.027275,2.01801), (0.487825,-0.108122,1.95352), (0.161182,0.10152,0.238128)]\n"
     ]
    }
   ],
   "source": [
    "events = [pwa.Event(pwa.FourMomentumList([\n",
    "    pwa.FourMomentum(x[0]),\n",
    "    pwa.FourMomentum(x[1]),\n",
    "    pwa.FourMomentum(x[2]),\n",
    "])) for x in zip(D0s, Dms, pis)]\n",
    "\n",
    "event_collection = pwa.EventCollection(\n",
    "    [421, -411, 211],\n",
    "    pwa.EventList(events)\n",
    ")\n",
    "print(\"Event 0:\", event_collection.events[0].four_momenta)"
   ]
  },
  {
   "cell_type": "raw",
   "metadata": {
    "raw_mimetype": "text/restructuredtext"
   },
   "source": [
    "That's it! At this point you successfully imported your data into ComPWA and\n",
    "are ready to do PWA! More info about how to work with data can be found under\n",
    ":ref:`dataio`.\n",
    "\n",
    "You can proceed with other tasks. Below it is shown how to calculate the\n",
    "kinematic variables from an :py:class:`~.EventCollection`."
   ]
  },
  {
   "cell_type": "code",
   "execution_count": 5,
   "metadata": {},
   "outputs": [
    {
     "name": "stdout",
     "output_type": "stream",
     "text": [
      "2020-03-31 14:39:42,503 [INFO]  Particle a0(980)- with identical ID 9000211 already exists in list with the name a0(980)+ and ID 9000211. Particle properties will be overwritten!\n",
      "2020-03-31 14:39:42,506 [INFO]  Particle PatricParticle with identical ID 1234 already exists in list with the name Chic1 and ID 1234. Particle properties will be overwritten!\n",
      "2020-03-31 14:39:42,507 [INFO]  Particle nbar with identical ID 2112 already exists in list with the name n and ID 2112. Particle properties will be overwritten!\n",
      "2020-03-31 14:39:42,510 [INFO] HelicityKinematics::HelicityKinematics() | Initialized kinematics for reaction ( D0 )->( D0[ID=0] D-[ID=1] pi+[ID=2] )\n",
      "Event position to final state ID mapping:\n",
      "0: 0\n",
      "1: 1\n",
      "2: 2\n",
      "\n",
      "2020-03-31 14:39:42,511 [INFO] creating all Subsystems!\n"
     ]
    }
   ],
   "source": [
    "particle_list = pwa.read_particles('../particle_list.xml')\n",
    "kin = pwa.HelicityKinematics(particle_list, [421], [421, -411, 211])\n",
    "kin.create_all_subsystems()"
   ]
  },
  {
   "cell_type": "markdown",
   "metadata": {},
   "source": [
    "Using the `Kinematics.convert()` method, the `EventCollection` can be converted to a `DataSet`, which contains all of the registered kinematic variables (in this example all possible kinematic variables)."
   ]
  },
  {
   "cell_type": "code",
   "execution_count": 6,
   "metadata": {},
   "outputs": [
    {
     "data": {
      "text/plain": [
       "['phi_0_2_vs_1',\n",
       " 'theta_0_2_vs_1',\n",
       " 'phi_1_2_vs_0',\n",
       " 'theta_1_2_vs_0',\n",
       " 'phi_01_2',\n",
       " 'theta_0_1_vs_2',\n",
       " 'mSq_(1,2)',\n",
       " 'mSq_(0,1,2)',\n",
       " 'theta_0_12',\n",
       " 'phi_0_12',\n",
       " 'mSq_(0,2)',\n",
       " 'phi_0_1_vs_2',\n",
       " 'theta_02_1',\n",
       " 'mSq_(0,1)',\n",
       " 'theta_01_2',\n",
       " 'phi_02_1']"
      ]
     },
     "execution_count": 6,
     "metadata": {},
     "output_type": "execute_result"
    }
   ],
   "source": [
    "dataset = kin.convert(event_collection)\n",
    "list(dataset.data.keys())"
   ]
  },
  {
   "cell_type": "code",
   "execution_count": 7,
   "metadata": {},
   "outputs": [
    {
     "data": {
      "text/plain": [
       "{'phi_0_2_vs_1': [1.5380834709116604, -1.9672694162978688, 2.4065009207580226],\n",
       " 'theta_0_2_vs_1': [0.5840389174806245,\n",
       "  2.4949116986820825,\n",
       "  1.2582435108915695],\n",
       " 'phi_1_2_vs_0': [-1.486876987903377, 1.8321463115593553, -2.7965509151063594],\n",
       " 'theta_1_2_vs_0': [2.3383862457306104, 0.518132248700785, 1.8577502412492581],\n",
       " 'phi_01_2': [-2.568328021181151, -1.0719475265076341, 2.94885356067588],\n",
       " 'theta_0_1_vs_2': [0.6384091290227959,\n",
       "  2.6102380409321047,\n",
       "  1.2373291170602045],\n",
       " 'mSq_(1,2)': [4.35902745213186, 4.789563860203071, 4.69647639184098],\n",
       " 'mSq_(0,1,2)': [17.719582451928932, 17.29579072179182, 17.46184619639333],\n",
       " 'theta_0_12': [1.328101671947761, 0.94474023306911, 2.359431809284036],\n",
       " 'phi_0_12': [-3.1243690623173674, 1.3944020217047697, 2.650939926722521],\n",
       " 'mSq_(0,2)': [4.844912427657423, 4.334804536424567, 4.761189598045681],\n",
       " 'phi_0_1_vs_2': [-1.7696963839491957,\n",
       "  2.1597860942742546,\n",
       "  -0.24540865118372385],\n",
       " 'theta_02_1': [1.3163189423118669, 1.0134368628968178, 2.7781808399748624],\n",
       " 'mSq_(0,1)': [15.731975097658, 15.031837191330313, 15.067376368793639],\n",
       " 'theta_01_2': [1.4077262219070348, 1.9146817586783584, 1.3766789967388011],\n",
       " 'phi_02_1': [2.95138723380652, 1.6357001949633267, 2.1989898305091873]}"
      ]
     },
     "execution_count": 7,
     "metadata": {},
     "output_type": "execute_result"
    }
   ],
   "source": [
    "dataset.data"
   ]
  }
 ],
 "metadata": {
  "celltoolbar": "Raw Cell Format",
  "kernelspec": {
   "display_name": "Python 3",
   "language": "python",
   "name": "python3"
  },
  "language_info": {
   "codemirror_mode": {
    "name": "ipython",
    "version": 3
   },
   "file_extension": ".py",
   "mimetype": "text/x-python",
   "name": "python",
   "nbconvert_exporter": "python",
   "pygments_lexer": "ipython3",
   "version": "3.7.6"
  }
 },
 "nbformat": 4,
 "nbformat_minor": 2
}
