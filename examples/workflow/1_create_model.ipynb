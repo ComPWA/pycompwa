{
 "cells": [
  {
   "cell_type": "raw",
   "metadata": {
    "raw_mimetype": "text/restructuredtext"
   },
   "source": [
    "Download this notebook :download:`here <1_create_model.ipynb>`."
   ]
  },
  {
   "cell_type": "markdown",
   "metadata": {},
   "source": [
    "# Step 1: Create an amplitude model"
   ]
  },
  {
   "cell_type": "markdown",
   "metadata": {},
   "source": [
    "Your analysis starts by defining an amplitude module that describe the intermediate resonances in the decay process you study. For this, of course, you first have to determine what resonances there could be.\n",
    "\n",
    "ComPWA comes with a so-called ['expert system'](https://en.wikipedia.org/wiki/Expert_system) that can determine which resonances are allowed for a problem set you define (initial state, final state, allowed interactions, etc.). The system investigates all decay chain combinations and checks whether all quantum numbers comply with conservation rules.\n",
    "\n",
    "Next, the expert system writes out an amplitude model that represents the interference patterns of allowed resonances. The model can for instance be used to generate a data set (toy Monte-Carlo) for this decay and you optimize its parameters you perform the fit to actual data."
   ]
  },
  {
   "cell_type": "markdown",
   "metadata": {},
   "source": [
    "## 1.1. Define the problem set\n",
    "\n",
    "We first define the boundary conditions of our physics problem, such as initial state, final state, formalism type, etc. and pass all of that information to the `StateTransitionManager`. This is the main user interface class of the ComPWA expert system."
   ]
  },
  {
   "cell_type": "code",
   "execution_count": null,
   "metadata": {},
   "outputs": [],
   "source": [
    "from pycompwa.expertsystem.ui.system_control import StateTransitionManager"
   ]
  },
  {
   "cell_type": "code",
   "execution_count": null,
   "metadata": {},
   "outputs": [],
   "source": [
    "initial_state = [(\"J/psi\", [-1, 1])]\n",
    "final_state = [(\"gamma\", [-1, 1]), (\"pi0\", [0]), (\"pi0\", [0])]\n",
    "\n",
    "tbd_manager = StateTransitionManager(initial_state, final_state,\n",
    "                                     formalism_type='helicity',\n",
    "                                     topology_building='isobar')"
   ]
  },
  {
   "cell_type": "raw",
   "metadata": {
    "raw_mimetype": "text/restructuredtext"
   },
   "source": [
    ".. note::\n",
    "    The :class:`~.StateTransitionManager` (STM) is the main user interface\n",
    "    class of the ComPWA expert system. The boundary conditions of your\n",
    "    physics problem, such as the initial state, final state, formalism type,\n",
    "    etc., are defined through this interface.\n",
    "\n",
    "    * :meth:`~.prepare_graphs` of the STM creates all topology graphs ―\n",
    "      here, using the isobar model (a tree of two-body decays). The function\n",
    "      also initializes the graphs with the initial and final state and a set\n",
    "      of conservation laws at each interaction node.\n",
    "\n",
    "    * By default, all three interaction types (strong, EM, weak) are used in\n",
    "      the preparation stage. However, it is also possible to choose the\n",
    "      allowed interaction types globally via\n",
    "      :meth:`~.set_allowed_interaction_types`.\n",
    "\n",
    "    After the preparation step, you can modify the settings returned by\n",
    "    :meth:`.prepare_graphs` to your liking. Since the output of this function\n",
    "    contains quite a lot of information, the\n",
    "    :mod:`expertsystem UI <pycompwa.expertsystem.ui>` aids in the\n",
    "    configuration (especially the STM).\n",
    "   \n",
    "    * A subset of particles that are allowed as intermediate states can also\n",
    "      be specified: either through the\n",
    "      :meth:`STM's constructor <.StateTransitionManager.__init__>` or by\n",
    "      setting the instance attribute ``allowed_intermediate_particles``."
   ]
  },
  {
   "cell_type": "markdown",
   "metadata": {},
   "source": [
    "## 1.2. Prepare topologies\n",
    "\n",
    "Create all topology graphs using the **isobar model** (tree of two-body decays) and initialize the graphs with the initial and final state. Remember that each interaction node defines its own set of conservation laws.\n",
    "\n",
    "The `StateTransitionManager` (STM) defines three interaction types:\n",
    "\n",
    "| Interaction          | Strength  |\n",
    "| -------------------- | --------- |\n",
    "| strong               | $60$      |\n",
    "| electromagnetic (EM) | $1$       |\n",
    "| weak                 | $10^{-4}$ |\n",
    "\n",
    "By default, all three are used in the preparation stage. The function `prepare_graphs()` of the STM generates graphs with all possible combinations of interaction nodes. An overall interaction strength is assigned to each graph and they are grouped according to this strength."
   ]
  },
  {
   "cell_type": "code",
   "execution_count": null,
   "metadata": {},
   "outputs": [],
   "source": [
    "graph_interaction_settings_groups = tbd_manager.prepare_graphs()"
   ]
  },
  {
   "cell_type": "markdown",
   "metadata": {},
   "source": [
    "## 1.3. Find solutions"
   ]
  },
  {
   "cell_type": "markdown",
   "metadata": {},
   "source": [
    "If you are happy with the default settings generated by the ``StateTransitionManager``, just start with solving directly!"
   ]
  },
  {
   "cell_type": "raw",
   "metadata": {
    "raw_mimetype": "text/restructuredtext"
   },
   "source": [
    ".. note::\n",
    "    This step takes about 30 sec on an Intel(R) Core(TM) i7-6820HQ CPU\n",
    "    @ 2.70GHz running multi-threaded"
   ]
  },
  {
   "cell_type": "code",
   "execution_count": null,
   "metadata": {},
   "outputs": [],
   "source": [
    "solutions, violated_rules = tbd_manager.find_solutions(\n",
    "    graph_interaction_settings_groups)"
   ]
  },
  {
   "cell_type": "code",
   "execution_count": null,
   "metadata": {},
   "outputs": [],
   "source": [
    "from pycompwa.expertsystem.topology.graph import get_intermediate_state_edges\n",
    "\n",
    "def print_intermediate_states(solutions):\n",
    "    \"\"\"Just a little function to print the intermediate states.\"\"\"\n",
    "    print(\"intermediate states:\")\n",
    "    intermediate_states = set()\n",
    "    for g in solutions:\n",
    "        edge_id = get_intermediate_state_edges(g)[0]\n",
    "        intermediate_states.add(g.edge_props[edge_id]['@Name'])\n",
    "    print(intermediate_states)\n",
    "\n",
    "print(\"found\", len(solutions), \"solutions!\")\n",
    "print_intermediate_states(solutions)"
   ]
  },
  {
   "cell_type": "markdown",
   "metadata": {},
   "source": [
    "Now we have a lot of solutions that are actually heavily suppressed (they involve two weak decays).\n",
    "\n",
    "In general, you can modify the dictionary returned by `prepare_graphs()` directly, but the STM also comes with functionality to globally choose the allowed interaction types.\n",
    "\n",
    "So, go ahead and **disable** the **EM** and **weak** interaction:"
   ]
  },
  {
   "cell_type": "code",
   "execution_count": null,
   "metadata": {},
   "outputs": [],
   "source": [
    "from pycompwa.expertsystem.ui.system_control import InteractionTypes\n",
    "\n",
    "tbd_manager.set_allowed_interaction_types([InteractionTypes.Strong])\n",
    "graph_interaction_settings_groups = tbd_manager.prepare_graphs()\n",
    "solutions, violated_rules = tbd_manager.find_solutions(\n",
    "    graph_interaction_settings_groups)\n",
    "\n",
    "print(\"found\", len(solutions), \"solutions!\")\n",
    "print_intermediate_states(solutions)"
   ]
  },
  {
   "cell_type": "markdown",
   "metadata": {},
   "source": [
    "Huh, what happened here? Actually, since a **$\\gamma$ particle** appears in one of the interaction nodes, the expert system knows that this node **must involve EM interactions**! Because the node can be an effective interaction, the weak interaction cannot be excluded, as it contains only a subset of conservation laws.\n",
    "\n",
    "Since only the strong interaction was supposed to be used, this results in a warning and the STM automatically corrects the mistake.\n",
    "\n",
    "Once the EM interaction is included, this warning disappears. Be aware, however, that the EM interaction is now available globally. Hence, there now might be solutions in which both nodes are electromagnetic."
   ]
  },
  {
   "cell_type": "code",
   "execution_count": null,
   "metadata": {},
   "outputs": [],
   "source": [
    "tbd_manager.set_allowed_interaction_types(\n",
    "    [InteractionTypes.Strong, InteractionTypes.EM])\n",
    "graph_interaction_settings_groups = tbd_manager.prepare_graphs()\n",
    "solutions, violated_rules = tbd_manager.find_solutions(\n",
    "    graph_interaction_settings_groups)\n",
    "\n",
    "print(\"found\", len(solutions), \"solutions!\")\n",
    "print_intermediate_states(solutions)"
   ]
  },
  {
   "cell_type": "markdown",
   "metadata": {},
   "source": [
    "Great! Now we selected only the strongest contributions. Be aware, though, that there are more effects that can suppress certain decays, like small branching ratios. In this example, the initial state $J/\\Psi$ can decay into $\\pi^0 + \\rho^0$ or $\\pi^0 + \\omega$.\n",
    "\n",
    "| decay                               | branching ratio |\n",
    "| ----------------------------------- | --------------- |\n",
    "| $$\\omega \\rightarrow \\gamma+\\pi^0$$ | 0.0828          |\n",
    "| $$\\rho^0 \\rightarrow \\gamma+\\pi^0$$ | 0.0006          |\n",
    "\n",
    "Unfortunately, the $\\rho^0$ mainly decays into $\\pi+\\pi$, not $\\gamma+\\pi^0$ and is therefore suppressed. This information is currently not known to the expert system, but it is possible to hand the expert system a list of allowed intermediate states."
   ]
  },
  {
   "cell_type": "code",
   "execution_count": null,
   "metadata": {},
   "outputs": [],
   "source": [
    "# particles are found by name comparison,\n",
    "# i.e. f2 will find all f2's and f all f's independent of their spin\n",
    "tbd_manager.allowed_intermediate_particles = ['f']\n",
    "\n",
    "solutions, violated_rules = tbd_manager.find_solutions(\n",
    "    graph_interaction_settings_groups)\n",
    "\n",
    "print(\"found \" + str(len(solutions)) + \" solutions!\")\n",
    "print_intermediate_states(solutions)"
   ]
  },
  {
   "cell_type": "markdown",
   "metadata": {},
   "source": [
    "Now we have selected all amplitudes that involve **f** states. The warnings appear only to notify the user that the list of solutions is not exhaustive: for certain edges in the graph, no suitable particle was found (since only f states were allowed).\n",
    "\n",
    "Now that we are satisfied with the intermediate resonances, we are all set to generate an amplitude model!"
   ]
  },
  {
   "cell_type": "code",
   "execution_count": null,
   "metadata": {},
   "outputs": [],
   "source": [
    "from pycompwa.expertsystem.amplitude.helicitydecay import \\\n",
    "    HelicityAmplitudeGeneratorXML\n",
    "\n",
    "xml_generator = HelicityAmplitudeGeneratorXML()\n",
    "xml_generator.generate(solutions)\n",
    "xml_generator.write_to_file('model.xml')"
   ]
  },
  {
   "cell_type": "raw",
   "metadata": {
    "raw_mimetype": "text/restructuredtext"
   },
   "source": [
    ".. note::\n",
    "\n",
    "    In this example, we used the helicity formalism. If you want to work with\n",
    "    the canonical formalism, you have to:\n",
    "\n",
    "    1. Construct a :class:`~.StateTransitionManager` with argument\n",
    "       ``formalism_type='canonical-helicity'``\n",
    "       instead of\n",
    "       ``formalism_type='helicity'``.\n",
    "\n",
    "    2. Use the :class:`~.CanonicalAmplitudeGeneratorXML` instead of the\n",
    "       :class:`~.HelicityAmplitudeGeneratorXML`.\n",
    "\n",
    "    Note that you **have to do both**, because otherwise the resulting\n",
    "    amplitude will not make sense!"
   ]
  },
  {
   "cell_type": "markdown",
   "metadata": {},
   "source": [
    "Have a look through the sections of the resulting XML file to see what you recognize from the problem set defined above. There may also be some things you want to change in there manually, so **make sure you store this XML file** carefully (e.g. track it with Git) so that you don't overwrite it your changed after rerunning the expert system."
   ]
  },
  {
   "cell_type": "markdown",
   "metadata": {},
   "source": [
    "In the next step, we'll use this amplitude model to generate a data sample."
   ]
  }
 ],
 "metadata": {
  "celltoolbar": "Raw Cell Format",
  "kernelspec": {
   "display_name": "Python 3",
   "language": "python",
   "name": "python3"
  },
  "language_info": {
   "codemirror_mode": {
    "name": "ipython",
    "version": 3
   },
   "file_extension": ".py",
   "mimetype": "text/x-python",
   "name": "python",
   "nbconvert_exporter": "python",
   "pygments_lexer": "ipython3",
   "version": "3.7.6"
  }
 },
 "nbformat": 4,
 "nbformat_minor": 2
}
