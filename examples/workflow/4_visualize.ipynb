{
 "cells": [
  {
   "cell_type": "markdown",
   "metadata": {},
   "source": [
    "# Step 4: Visualization"
   ]
  },
  {
   "cell_type": "raw",
   "metadata": {},
   "source": [
    ".. note::\n",
    "    We load the relevant data first, so that we can run this step\n",
    "    independently from the others. These commands can be considered a summary\n",
    "    of the previous steps."
   ]
  },
  {
   "cell_type": "code",
   "execution_count": null,
   "metadata": {},
   "outputs": [],
   "source": [
    "%reset -f\n",
    "import pycompwa.ui as pwa\n",
    "pwa.Logging('error')  # at this stage we are not interested in the back-end\n",
    "particle_list = pwa.read_particles('model.xml')\n",
    "kinematics = pwa.create_helicity_kinematics('model.xml', particle_list)\n",
    "kinematics.create_all_subsystems()\n",
    "data_sample = pwa.read_root_data(input_file='generated_data.root')\n",
    "phsp_sample = pwa.read_root_data(input_file='generated_phsp.root')\n",
    "intensity_builder = pwa.IntensityBuilderXML(\n",
    "    'model.xml', particle_list, kinematics, phsp_sample)\n",
    "fit_result = pwa.load('fit_result.xml')\n",
    "intensity = intensity_builder.create_intensity()\n",
    "data_set = kinematics.convert(data_sample)\n",
    "estimator, initial_parameters = \\\n",
    "    pwa.create_unbinned_log_likelihood_function_tree_estimator(\n",
    "        intensity, data_set)\n",
    "intensity.updateParametersFrom(fit_result.final_parameters)"
   ]
  },
  {
   "cell_type": "markdown",
   "metadata": {},
   "source": [
    "## 4.1 Create Dalitz plots"
   ]
  },
  {
   "cell_type": "markdown",
   "metadata": {},
   "source": [
    "Let's go ahead and make a Dalitz plot of the data sample and our fit result. It is easiest to visualize your data with [pandas.DataFrame](https://pandas.pydata.org/pandas-docs/stable/reference/api/pandas.DataFrame.html). This section illustrates how to do this in combination with ComPWA's functionality.\n",
    "\n",
    "Since our model only includes one specific decay topology, the `HelicityKinematics` class only generates the kinematic variables needed to evaluate the `Intensity`. In order to make a Dalitz plot, the kinematic variables from the other subsystems are also needed. They can be created with `create_all_subsystems()`. The conversion from the event samples have to be performed again, though:"
   ]
  },
  {
   "cell_type": "code",
   "execution_count": null,
   "metadata": {},
   "outputs": [],
   "source": [
    "kinematics.create_all_subsystems()\n",
    "data_set = kinematics.convert(data_sample)\n",
    "phsp_set = kinematics.convert(phsp_sample)"
   ]
  },
  {
   "cell_type": "markdown",
   "metadata": {},
   "source": [
    "The `data_set` and `phsp_set` instances are `DataSet` objects can cannot be understood by pandas. Their data members, however, easily allow us to make the conversion:"
   ]
  },
  {
   "cell_type": "code",
   "execution_count": null,
   "metadata": {},
   "outputs": [],
   "source": [
    "import pandas as pd\n",
    "frame_data = pd.DataFrame(data_set.data)\n",
    "frame_phsp = pd.DataFrame(phsp_set.data)\n",
    "frame_data['weights'] = data_set.weights\n",
    "frame_data"
   ]
  },
  {
   "cell_type": "markdown",
   "metadata": {},
   "source": [
    "We added a weights column here as well, though in this case, all data weights are unity.\n",
    "\n",
    "To change the number IDs here to the original particle names, you can extract a mapping from the `Kinematics` object:"
   ]
  },
  {
   "cell_type": "raw",
   "metadata": {},
   "source": [
    ".. tip::\n",
    "   \n",
    "    ComPWA ships with a little python plotting module (``plotting``), which\n",
    "    for example helps you to read in ROOT TTree's and create common plots\n",
    "    (e.g. angular distributions, Dalitz plots). It uses matplotlib as a\n",
    "    backend. You can either hand it data files, or feed it directly with\n",
    "    data.\n",
    "\n",
    "    Please use it, instead of creating your own visualization scripts!"
   ]
  },
  {
   "cell_type": "code",
   "execution_count": null,
   "metadata": {},
   "outputs": [],
   "source": [
    "transition_info = kinematics.get_particle_state_transition_kinematics_info()\n",
    "id_to_name = transition_info.get_final_state_id_to_name_mapping()\n",
    "name_to_id = {val: key for key, val in id_to_name.items()}\n",
    "\n",
    "\n",
    "def replace_ids(title):\n",
    "    \"\"\"Just some replace lambda\"\"\"\n",
    "    for id, name in id_to_name.items():\n",
    "        title = title.replace(str(id), name)\n",
    "    return title"
   ]
  },
  {
   "cell_type": "markdown",
   "metadata": {},
   "source": [
    "How to visualize the fit? This is where the phase space comes in again. By attributing an intensity as a weight to each phase space point, we get a point distribution of the fit model over the space spanned by the kinematic variables."
   ]
  },
  {
   "cell_type": "code",
   "execution_count": null,
   "metadata": {},
   "outputs": [],
   "source": [
    "intensity_set = intensity.evaluate(phsp_set.data)\n",
    "frame_phsp['weights'] = intensity_set"
   ]
  },
  {
   "cell_type": "markdown",
   "metadata": {},
   "source": [
    "Now you can apply the usual `matplotlib.pyplot` tools to plot the distributions."
   ]
  },
  {
   "cell_type": "code",
   "execution_count": null,
   "metadata": {},
   "outputs": [],
   "source": [
    "import matplotlib.pyplot as plt\n",
    "\n",
    "\n",
    "def plot_1d_comparison(name, **kwargs):\n",
    "    \"\"\"Helper function for comparing the 1D distributions of fit and data\"\"\"\n",
    "    frame_data[name].hist(bins=100, density=True,\n",
    "                          alpha=.5, label='data', **kwargs)\n",
    "    frame_phsp[name].hist(bins=100, weights=frame_phsp['weights'],\n",
    "                          density=True, histtype='step', color='red',\n",
    "                          label='fit', **kwargs)\n",
    "    plt.ylabel('normalized intensity')\n",
    "    title = replace_ids(name)\n",
    "    plt.xlabel(title)"
   ]
  },
  {
   "cell_type": "code",
   "execution_count": null,
   "metadata": {},
   "outputs": [],
   "source": [
    "plot_1d_comparison('theta_2_4_vs_3')\n",
    "plt.legend()"
   ]
  },
  {
   "cell_type": "code",
   "execution_count": null,
   "metadata": {},
   "outputs": [],
   "source": [
    "plot_1d_comparison('mSq_(3,4)')\n",
    "plt.legend()"
   ]
  },
  {
   "cell_type": "markdown",
   "metadata": {},
   "source": [
    "Similarly, we can easily create a Dalitz plot:"
   ]
  },
  {
   "cell_type": "code",
   "execution_count": null,
   "metadata": {},
   "outputs": [],
   "source": [
    "import matplotlib.pyplot as plt\n",
    "\n",
    "\n",
    "def dalitz_plot(frame, mass_x, mass_y, **kwargs):\n",
    "    \"\"\"Helper function to create a Dalitz plot with meaningful axis titles\"\"\"\n",
    "    plt.hist2d(\n",
    "        frame[mass_x],\n",
    "        frame[mass_y],\n",
    "        weights=frame['weights'],\n",
    "        **kwargs\n",
    "    )\n",
    "    plt.xlabel(replace_ids(mass_x))\n",
    "    plt.ylabel(replace_ids(mass_y))"
   ]
  },
  {
   "cell_type": "code",
   "execution_count": null,
   "metadata": {},
   "outputs": [],
   "source": [
    "from itertools import combinations\n",
    "variable_names = data_set.data.keys()\n",
    "invariant_masses = [var for var in variable_names\n",
    "                    if var.startswith('mSq_')\n",
    "                    and not var.endswith('(2,3,4)')]\n",
    "for comb in combinations(invariant_masses, 2):\n",
    "    fig, axs = plt.subplots(1, 2, figsize=(10, 4))\n",
    "    plt.sca(axs[0])\n",
    "    dalitz_plot(frame_data, *comb, bins=100)\n",
    "    axs[0].set_title('data')\n",
    "    plt.sca(axs[1])\n",
    "    dalitz_plot(frame_phsp, *comb, bins=100)\n",
    "    axs[1].set_title('fit')\n",
    "    plt.show()"
   ]
  },
  {
   "cell_type": "markdown",
   "metadata": {},
   "source": [
    "## 4.2 Calculate Fit Fractions"
   ]
  },
  {
   "cell_type": "markdown",
   "metadata": {},
   "source": [
    "Fit fractions can be calculated using the ``fit_fractions_with_propagated_errors()`` function. It requires amplitude or ``Intensity`` components that can be extracted from the ``IntensityBuilderXML`` instance. A nested list of the component names has to be specified as well. These are the names specified in the component XML attributes. If the inner lists contain more than one component, these components will be added coherently. In this way you can calculate your own customized fit fractions.\n",
    "\n",
    "All registered component names can be retrieved via ``get_all_component_names()``:"
   ]
  },
  {
   "cell_type": "code",
   "execution_count": null,
   "metadata": {},
   "outputs": [],
   "source": [
    "intensity_builder.get_all_component_names()"
   ]
  },
  {
   "cell_type": "markdown",
   "metadata": {},
   "source": [
    "Now specify which components you want to get from the builder."
   ]
  },
  {
   "cell_type": "code",
   "execution_count": null,
   "metadata": {},
   "outputs": [],
   "source": [
    "components = intensity_builder.create_intensity_components([\n",
    "    ['coherent_J/psi_-1_to_gamma_-1+pi0_0+pi0_0'],\n",
    "    ['J/psi_-1_to_f2(1270)_-1+gamma_-1;f2(1270)_-1_to_pi0_0+pi0_0;'],\n",
    "    ['J/psi_-1_to_f2(1270)_-2+gamma_-1;f2(1270)_-2_to_pi0_0+pi0_0;'],\n",
    "    ['J/psi_-1_to_f2(1270)_0+gamma_-1;f2(1270)_0_to_pi0_0+pi0_0;'],\n",
    "    [\n",
    "        'J/psi_-1_to_f2(1270)_-1+gamma_-1;f2(1270)_-1_to_pi0_0+pi0_0;',\n",
    "        'J/psi_-1_to_f2(1270)_-2+gamma_-1;f2(1270)_-2_to_pi0_0+pi0_0;',\n",
    "        'J/psi_-1_to_f2(1270)_0+gamma_-1;f2(1270)_0_to_pi0_0+pi0_0;',\n",
    "    ],\n",
    "])"
   ]
  },
  {
   "cell_type": "markdown",
   "metadata": {},
   "source": [
    "The last step is to call the actual fit fraction calculation function ``fit_fractions_with_propagated_errors()``. Here, the first required argument is a list of component pairs. Each pair resembles the nominator and denominator of a fit fraction."
   ]
  },
  {
   "cell_type": "code",
   "execution_count": null,
   "metadata": {},
   "outputs": [],
   "source": [
    "fit_fractions = pwa.fit_fractions_with_propagated_errors([\n",
    "    (components[1], components[0]),\n",
    "    (components[2], components[0]),\n",
    "    (components[3], components[0]),\n",
    "    (components[4], components[0]),\n",
    "], phsp_set, fit_result)"
   ]
  },
  {
   "cell_type": "code",
   "execution_count": null,
   "metadata": {},
   "outputs": [],
   "source": [
    "print(fit_fractions)"
   ]
  },
  {
   "cell_type": "markdown",
   "metadata": {},
   "source": [
    "That's it. You can check some of the other examples to learn about more detailed features of ComPWA.\n",
    "\n",
    "And give us feedback or [contribute](https://compwa.github.io/contribute.html)! ;)"
   ]
  }
 ],
 "metadata": {
  "kernelspec": {
   "display_name": "Python 3",
   "language": "python",
   "name": "python3"
  },
  "language_info": {
   "codemirror_mode": {
    "name": "ipython",
    "version": 3
   },
   "file_extension": ".py",
   "mimetype": "text/x-python",
   "name": "python",
   "nbconvert_exporter": "python",
   "pygments_lexer": "ipython3",
   "version": "3.7.6"
  }
 },
 "nbformat": 4,
 "nbformat_minor": 2
}
