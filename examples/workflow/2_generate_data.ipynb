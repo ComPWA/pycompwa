{
 "cells": [
  {
   "cell_type": "markdown",
   "metadata": {},
   "source": [
    "# Step 2: Generate data samples"
   ]
  },
  {
   "cell_type": "markdown",
   "metadata": {},
   "source": [
    "In this section, we will use the amplitude model created above to generate a data sample via hit & miss Monte Carlo."
   ]
  },
  {
   "cell_type": "markdown",
   "metadata": {},
   "source": [
    "## 2.1 Generate"
   ]
  },
  {
   "cell_type": "markdown",
   "metadata": {},
   "source": [
    "Using this amplitude model in the C++ side of ComPWA is simple. The `create_helicity_kinematics()` helper function builds a ``Kinematics`` object following the specifications in the XML model file. The second argument of this function is a particle list, which can be created with the `read_particles()` function. The created ``Kinematics`` object can be used to generate a phase space sample as well.\n",
    "\n",
    "An ``Intensity`` object can be created with the `create_intensity()` function. Because the Intensities constructed by the Builder are automatically normalized, you have to pass this function a phase space sample as an argument. The ``Kinematics`` instance is then updated with the needed subsystems of the decay topology during the creation of the ``Intensity`` object.\n",
    "\n",
    "Now all building blocks for generating our data sample are at hand."
   ]
  },
  {
   "cell_type": "code",
   "execution_count": null,
   "metadata": {},
   "outputs": [],
   "source": [
    "import pycompwa.ui as pwa\n",
    "\n",
    "particle_list = pwa.read_particles('model.xml')\n",
    "\n",
    "kinematics = pwa.create_helicity_kinematics('model.xml', particle_list)\n",
    "\n",
    "generator = pwa.EvtGenGenerator(\n",
    "    kinematics.get_particle_state_transition_kinematics_info())\n",
    "\n",
    "random_generator = pwa.StdUniformRealGenerator(12345)\n",
    "\n",
    "phsp_sample = pwa.generate_phsp(100000, generator, random_generator)\n",
    "\n",
    "intensity_builder = pwa.IntensityBuilderXML(\n",
    "    'model.xml', particle_list, kinematics, phsp_sample)\n",
    "\n",
    "intensity = intensity_builder.create_intensity()\n",
    "\n",
    "data_sample = pwa.generate(\n",
    "    10000, kinematics, generator, intensity, random_generator)"
   ]
  },
  {
   "cell_type": "markdown",
   "metadata": {},
   "source": [
    "## 2.2 Data Input/Output"
   ]
  },
  {
   "cell_type": "markdown",
   "metadata": {},
   "source": [
    "You may want to write the generated data and phase space samples to disk, so that you don't have to perform this step each time you revisit the fit. ComPWA provides functions for ROOT and ASCII files, that can be used as follows:"
   ]
  },
  {
   "cell_type": "code",
   "execution_count": null,
   "metadata": {},
   "outputs": [],
   "source": [
    "# to ROOT\n",
    "pwa.write_root_data(data_sample, output_file='generated_data.root')\n",
    "pwa.write_root_data(phsp_sample, output_file='generated_phsp.root')\n",
    "# to ASCII\n",
    "pwa.write_ascii_data(data_sample, output_file='generated_data.dat')\n",
    "pwa.write_ascii_data(phsp_sample, output_file='generated_phsp.dat')"
   ]
  },
  {
   "cell_type": "markdown",
   "metadata": {},
   "source": [
    "Importing syntax parallels that:"
   ]
  },
  {
   "cell_type": "code",
   "execution_count": null,
   "metadata": {},
   "outputs": [],
   "source": [
    "imported_data = pwa.read_root_data(input_file='generated_data.root')\n",
    "print('Imported events:', len(imported_data.events))\n",
    "first_event = imported_data.events[0]\n",
    "print('First event:')\n",
    "print(first_event.four_momenta)\n",
    "print(first_event.weight)"
   ]
  },
  {
   "cell_type": "markdown",
   "metadata": {},
   "source": [
    "Note that the ASCII (`.dat`) files contain a header section that informs you about the final state of the file. You will have to prepend this section to the file yourself if you want to use a data sample from another framework."
   ]
  },
  {
   "cell_type": "code",
   "execution_count": null,
   "metadata": {},
   "outputs": [],
   "source": [
    "with open('generated_data.dat') as f:\n",
    "    for _ in range(5):\n",
    "        print(f.readline()[:-1])"
   ]
  },
  {
   "cell_type": "raw",
   "metadata": {},
   "source": [
    ".. note::\n",
    "   ``pycompwa.ui`` is the python interface to ComPWA's C++ modules. Read more\n",
    "   about this :ref:`here <python-ui>`.\n",
    "\n",
    "   Three important pieces for evaluating an intensity are:\n",
    "\n",
    "   * The **Intensity** object itself. It was generated previously and stored\n",
    "     within the XML model file.\n",
    "  \n",
    "   * A **DataSample** (``EventCollection``). In its raw form a data sample is just an\n",
    "     event-based list of four-momenta with a list of Particle IDs. For the evaluation\n",
    "     of the intensity, the kinematic variables are required as well. Here, the\n",
    "     kinematics class comes into play!\n",
    "   \n",
    "   * A **Kinematics** instance. It handles the calculation of the kinematic\n",
    "     variables that are required for the evaluation of the intensity!\n",
    "     For example in the helicity formalism: :math:`(s,\\theta,\\phi)`."
   ]
  }
 ],
 "metadata": {
  "kernelspec": {
   "display_name": "Python 3",
   "language": "python",
   "name": "python3"
  },
  "language_info": {
   "codemirror_mode": {
    "name": "ipython",
    "version": 3
   },
   "file_extension": ".py",
   "mimetype": "text/x-python",
   "name": "python",
   "nbconvert_exporter": "python",
   "pygments_lexer": "ipython3",
   "version": "3.7.6"
  }
 },
 "nbformat": 4,
 "nbformat_minor": 2
}
