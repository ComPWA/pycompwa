{
 "cells": [
  {
   "cell_type": "markdown",
   "metadata": {},
   "source": [
    "# Step 3: Perform fit"
   ]
  },
  {
   "cell_type": "raw",
   "metadata": {},
   "source": [
    ".. note::\n",
    "    We load the relevant data first, so that we can run this step\n",
    "    independently from the others. These commands can be considered a summary\n",
    "    of the previous steps."
   ]
  },
  {
   "cell_type": "code",
   "execution_count": null,
   "metadata": {},
   "outputs": [],
   "source": [
    "%reset -f\n",
    "import pycompwa.ui as pwa\n",
    "particle_list = pwa.read_particles('model.xml')\n",
    "kinematics = pwa.create_helicity_kinematics('model.xml', particle_list)\n",
    "kinematics.create_all_subsystems()\n",
    "data_sample = pwa.read_root_data(input_file='generated_data.root')\n",
    "phsp_sample = pwa.read_root_data(input_file='generated_phsp.root')\n",
    "intensity_builder = pwa.IntensityBuilderXML(\n",
    "    'model.xml', particle_list, kinematics, phsp_sample)\n",
    "intensity = intensity_builder.create_intensity()"
   ]
  },
  {
   "cell_type": "markdown",
   "metadata": {},
   "source": [
    "An **Intensity** object behaves just like a mathematical function that takes a `DataSet` as an argument and returns a list of intensities (real numbers).\n",
    "\n",
    "To perform a fit, first create an estimator of your choice. An estimator generally needs:\n",
    "\n",
    "- an `Intensity` instance\n",
    "- a `DataSet` (to which the intensity is fitted)\n",
    "- optionally: a phase space `DataSet` (which is used to normalize the `Intensity`)\n",
    "\n",
    "A phase space sample can be generated via the `generate_phsp()` function (see above). Since our `Intensity` is already normalized, this is not needed here.\n",
    "The data samples can be converted to a `DataSet` as follows:"
   ]
  },
  {
   "cell_type": "code",
   "execution_count": null,
   "metadata": {},
   "outputs": [],
   "source": [
    "data_set = kinematics.convert(data_sample)"
   ]
  },
  {
   "cell_type": "markdown",
   "metadata": {},
   "source": [
    "Now we can create an **estimator**. Remember that an estimator indicates how well a set of model parameters describes a given data set best. In this example, we use an unbinned log likelihood estimator. The fit calculations are then performed the calculations with the `FunctionTree` back-end."
   ]
  },
  {
   "cell_type": "code",
   "execution_count": null,
   "metadata": {},
   "outputs": [],
   "source": [
    "estimator, initial_parameters = \\\n",
    "    pwa.create_unbinned_log_likelihood_function_tree_estimator(\n",
    "        intensity, data_set)"
   ]
  },
  {
   "cell_type": "markdown",
   "metadata": {},
   "source": [
    "Notice that you not only receive a estimator object, but also a list of fit parameters (`FitParameterList`). You use this list of fit parameters to initialize the optimizer later on. They contain the following info:\n",
    "\n",
    "- the initial values of the parameters\n",
    "- fix parameters\n",
    "- define boundaries\n",
    "- define errors, which can give certain optimizers hints on the step size\n",
    "\n",
    "These fit parameters are initialized with the values stated in the XML file or with default values if unspecified. But can be changed easily in Python as well, like fixing certain parameters."
   ]
  },
  {
   "cell_type": "code",
   "execution_count": null,
   "metadata": {},
   "outputs": [],
   "source": [
    "from pprint import pprint\n",
    "pprint(initial_parameters)\n",
    "print(\"\\nthis parameter is initially not fixed:\")\n",
    "print(initial_parameters[8])\n",
    "initial_parameters[7].is_fixed = True\n",
    "initial_parameters[8].is_fixed = True\n",
    "print(\"\\nand now it is fixed:\")\n",
    "print(initial_parameters[8])"
   ]
  },
  {
   "cell_type": "markdown",
   "metadata": {},
   "source": [
    "To make the fit a bit more interesting, we modify one of the parameters to a different initial value than the true value."
   ]
  },
  {
   "cell_type": "code",
   "execution_count": null,
   "metadata": {},
   "outputs": [],
   "source": [
    "print(\"before:\")\n",
    "print(initial_parameters[12])\n",
    "initial_parameters[12].value = 2.0\n",
    "print(\"after:\")\n",
    "print(initial_parameters[12])"
   ]
  },
  {
   "cell_type": "markdown",
   "metadata": {},
   "source": [
    "Now it's time to start up a set up a fit. This is quite simple: just create an optimizer instance of your choice, here Minuit2 (`MinuitIF`), and call its `optimize()` method to start the fitting process."
   ]
  },
  {
   "cell_type": "raw",
   "metadata": {},
   "source": [
    ".. note::\n",
    "    The fit (with 14 free parameters) on a Intel(R) Core(TM) i7-6820HQ CPU\n",
    "    @ 2.70GHz takes about 15 sec"
   ]
  },
  {
   "cell_type": "code",
   "execution_count": null,
   "metadata": {},
   "outputs": [],
   "source": [
    "optimizer = pwa.MinuitIF()\n",
    "fit_result = optimizer.optimize(estimator, initial_parameters)"
   ]
  },
  {
   "cell_type": "code",
   "execution_count": null,
   "metadata": {},
   "outputs": [],
   "source": [
    "fit_result.fit_duration_in_seconds"
   ]
  },
  {
   "cell_type": "markdown",
   "metadata": {},
   "source": [
    "Let's check if the fit parameters are \"close to\" the true values."
   ]
  },
  {
   "cell_type": "code",
   "execution_count": null,
   "metadata": {},
   "outputs": [],
   "source": [
    "print(\"this should be close to 1.0 again:\")\n",
    "print(fit_result.final_parameters[12].value,\n",
    "      \"+-\",\n",
    "      fit_result.final_parameters[12].error)"
   ]
  },
  {
   "cell_type": "markdown",
   "metadata": {},
   "source": [
    "**Important**: Note that the intensity instance still needs to be notified about this optimal set of parameters. They can be applied with the `updateParametersFrom()` function."
   ]
  },
  {
   "cell_type": "code",
   "execution_count": null,
   "metadata": {},
   "outputs": [],
   "source": [
    "intensity.updateParametersFrom(fit_result.final_parameters)"
   ]
  },
  {
   "cell_type": "markdown",
   "metadata": {},
   "source": [
    "Again, you can store this fit result to disk and pick it up again:"
   ]
  },
  {
   "cell_type": "code",
   "execution_count": null,
   "metadata": {},
   "outputs": [],
   "source": [
    "fit_result.write('fit_result.xml')\n",
    "imported_fit_result = pwa.load('fit_result.xml')\n",
    "imported_fit_result.final_parameters[12]"
   ]
  }
 ],
 "metadata": {
  "kernelspec": {
   "display_name": "Python 3",
   "language": "python",
   "name": "python3"
  },
  "language_info": {
   "codemirror_mode": {
    "name": "ipython",
    "version": 3
   },
   "file_extension": ".py",
   "mimetype": "text/x-python",
   "name": "python",
   "nbconvert_exporter": "python",
   "pygments_lexer": "ipython3",
   "version": "3.7.6"
  }
 },
 "nbformat": 4,
 "nbformat_minor": 2
}
